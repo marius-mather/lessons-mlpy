{
 "cells": [
  {
   "cell_type": "markdown",
   "metadata": {
    "pycharm": {}
   },
   "source": [
    "<!--\n",
    "---\n",
    "title: \"Linear Regression.\"\n",
    "author: \"Darya Vanichkina\"\n",
    "exercises: 30\n",
    "keypoints: \n",
    "- Regression is the prediction of the value of a continuous variable based on one or more other continuous or categorical variables.\n",
    "- Multiple types of regression can be implemented to fit the data\n",
    "source: Rmd\n",
    "start: 0\n",
    "teaching: 30\n",
    "bibliography: references.bib\n",
    "---\n",
    "-->\n",
    "\n",
    "## Linear regression"
   ]
  },
  {
   "cell_type": "code",
   "execution_count": 2,
   "metadata": {
    "pycharm": {
     "is_executing": false
    }
   },
   "outputs": [],
   "source": [
    "import matplotlib.pyplot as plt\n",
    "import numpy as np\n",
    "import pandas as pd\n",
    "from pandas.api.types import CategoricalDtype\n",
    "import statsmodels.api as sm\n",
    "import seaborn as sns\n",
    "from sklearn import preprocessing\n",
    "from sklearn.model_selection import train_test_split\n",
    "import pickle \n",
    "\n",
    "from sklearn.model_selection import train_test_split\n",
    "from sklearn.model_selection import GridSearchCV, RandomizedSearchCV\n",
    "from sklearn.metrics import mean_squared_error, r2_score,  mean_absolute_error\n",
    "\n",
    "from sklearn.pipeline import Pipeline\n",
    "from sklearn.preprocessing import StandardScaler\n",
    "from sklearn.preprocessing import PolynomialFeatures\n",
    "\n",
    "from sklearn.linear_model import LinearRegression, LassoCV, RidgeCV, ElasticNetCV\n",
    "\n",
    "%matplotlib inline\n",
    "sns.set(font_scale = 1.5)"
   ]
  },
  {
   "cell_type": "code",
   "execution_count": 2,
   "metadata": {
    "pycharm": {
     "is_executing": false
    }
   },
   "outputs": [],
   "source": [
    "def onehot_row_drop(df, column = 'column'):\n",
    "    df = pd.concat([df.drop(column, axis=1), pd.get_dummies(df[column], drop_first=True, prefix=column)],axis=1)\n",
    "    return(df)\n",
    "\n",
    "def group_infrequent(df, columnname,counts = 10):\n",
    "    df.loc[df[columnname].value_counts()[df[columnname]].values <= counts, columnname] = \"Other\"\n",
    "\n",
    "\n",
    "def none_of_this_feature(df, column = 'column'):\n",
    "    # adds a column to the dataframe with a value of 0 where there is none of this feature,\n",
    "    # and a 1 where it's actually there\n",
    "    df['No_' + column] = np.where(df[column]==0, 0, 1)\n",
    "    return(df)"
   ]
  },
  {
   "cell_type": "code",
   "execution_count": 3,
   "metadata": {
    "pycharm": {
     "is_executing": false
    }
   },
   "outputs": [],
   "source": [
    "ameshousingClean = pd.read_csv('data/AmesHousingClean.csv')\n",
    "\n",
    "# step 1\n",
    "ameshousingClean['Age'] = ameshousingClean['Year_Sold'].max() - ameshousingClean['Year_Built']\n",
    "ameshousingClean['Remodel_Age'] = ameshousingClean['Year_Sold'].max() - ameshousingClean['Year_Remod_Add']\n",
    "ameshousingClean['Misc_Feature_Present'] =  np.where(ameshousingClean['Misc_Feature']==\"None\", 0, 1)\n",
    "\n",
    "\n",
    "# step 2\n",
    "# group situations where there are less than 20 cases of something\n",
    "for i in ['Neighborhood', 'Roof_Matl', 'Exterior_1st', 'Exterior_2nd', 'Heating', 'MS_Zoning', 'Misc_Feature', 'Sale_Type']:\n",
    "    group_infrequent(df=ameshousingClean, columnname=i, counts=20)\n",
    "\n",
    "\n",
    "# Capture variables where some houses have \"none of this feature\" (i.e value of parameter = 0 aka zero-inflation)\n",
    "none_of_feature = ['Second_Flr_SF','Three_season_porch','BsmtFin_SF_2','Bsmt_Unf_SF','Enclosed_Porch','Low_Qual_Fin_SF',\n",
    "                   'Mas_Vnr_Area','Lot_Frontage','Open_Porch_SF','Screen_Porch','Pool_Area','Wood_Deck_SF', 'BsmtFin_SF_2', 'Second_Flr_SF']\n",
    "for i in none_of_feature:\n",
    "    ameshousingClean = none_of_this_feature(df = ameshousingClean, column=i)\n",
    "    \n",
    "# step 3\n",
    "categorical_variable_list = ['Alley', 'Bldg_Type', 'Condition_1', 'Electrical', 'Exter_Cond', 'Exter_Qual', \n",
    "                             'Foundation', 'Functional', 'House_Style', 'Kitchen_Qual', 'Land_Contour', \n",
    "                             'Land_Slope', 'Lot_Config', 'Lot_Shape', 'Central_Air', 'Bsmt_Cond', \n",
    "                             'Bsmt_Exposure', 'BsmtFin_Type_1', 'BsmtFin_Type_2', 'Bsmt_Qual', 'Fence', \n",
    "                             'Fireplace_Qu', 'Garage_Cond', 'Garage_Finish', 'Garage_Type', 'Heating_QC',  \n",
    "                              'MS_SubClass',  'Overall_Cond', 'Overall_Qual', \n",
    "                             'Paved_Drive', 'Roof_Style', 'Year_Sold', 'Neighborhood', 'Roof_Matl', 'Exterior_2nd',\n",
    "                            'Exterior_1st', 'Heating', 'MS_Zoning', 'Misc_Feature', 'Street', 'Mas_Vnr_Type', 'Utilities',\"Condition_2\", \"Pool_QC\", \"Garage_Qual\", 'Sale_Type', 'Sale_Condition']\n",
    "\n",
    "# step 4\n",
    "# one hot encode the other categoricals\n",
    "for i in categorical_variable_list:\n",
    "    ameshousingClean = onehot_row_drop(df = ameshousingClean, column=i)\n",
    "\n",
    "# step 5\n",
    "# drop double no basement: (ranges from 80 to 83 in dataset, going with 80)\n",
    "ameshousingClean = ameshousingClean.drop('Bsmt_Exposure_No_Basement', axis=1)\n",
    "ameshousingClean = ameshousingClean.drop('BsmtFin_Type_2_No_Basement', axis=1)\n",
    "ameshousingClean = ameshousingClean.drop('Bsmt_Qual_No_Basement', axis=1)\n",
    "ameshousingClean = ameshousingClean.drop('Garage_Finish_No_Garage', axis=1)\n",
    "ameshousingClean = ameshousingClean.drop('Garage_Type_No_Garage', axis=1)\n",
    "ameshousingClean = ameshousingClean.drop('Garage_Qual_No_Garage', axis=1)\n",
    "ameshousingClean = ameshousingClean.drop('Year_Built', axis=1)\n",
    "ameshousingClean = ameshousingClean.drop('Year_Remod_Add', axis=1)"
   ]
  },
  {
   "cell_type": "markdown",
   "metadata": {},
   "source": [
    "> ## Challenge 1\n",
    ">\n",
    "> Look at the code above. Can you explain why each of these transformations is being carried out? \n",
    "> See if you can figure out, in your groups, what each of the steps is doing.\n",
    "> \n",
    "> {: .source}\n",
    ">\n",
    "> > ## Solution\n",
    "> > \n",
    "> > {: .output}\n",
    "> {: .solution}\n",
    "{: .challenge}"
   ]
  },
  {
   "cell_type": "markdown",
   "metadata": {
    "pycharm": {}
   },
   "source": [
    "Add a column to the dataset to split the Sale Price by percentile into 10 bins:"
   ]
  },
  {
   "cell_type": "code",
   "execution_count": 4,
   "metadata": {
    "pycharm": {}
   },
   "outputs": [],
   "source": [
    "ameshousingClean['Sale_Price_quartile'] =  pd.qcut(ameshousingClean['Sale_Price'], 10, labels=range(10))"
   ]
  },
  {
   "cell_type": "markdown",
   "metadata": {
    "pycharm": {}
   },
   "source": [
    "Now we can use scikit-learn's train-test split to split the data into a training and testing subset, stratifying it by the percentile bin of the Sale_Price:"
   ]
  },
  {
   "cell_type": "code",
   "execution_count": 5,
   "metadata": {
    "pycharm": {}
   },
   "outputs": [],
   "source": [
    "index_train, index_test  = train_test_split(np.array(ameshousingClean.index), train_size=0.7, test_size = 0.3, \n",
    "                                            stratify = np.array(ameshousingClean['Sale_Price_quartile']), random_state=42)\n",
    "ameshousingClean = ameshousingClean.drop('Sale_Price_quartile', axis = 1)\n",
    "\n",
    "# Create variables for the training and test sets \n",
    "ames_train = ameshousingClean.loc[index_train,:].copy()\n",
    "ames_test =  ameshousingClean.loc[index_test,:].copy()"
   ]
  },
  {
   "cell_type": "code",
   "execution_count": 6,
   "metadata": {
    "pycharm": {}
   },
   "outputs": [
    {
     "name": "stdout",
     "output_type": "stream",
     "text": [
      "(2051, 287)\n",
      "(879, 287)\n"
     ]
    }
   ],
   "source": [
    "# What are their dimensions?\n",
    "print(ames_train.shape)\n",
    "print(ames_test.shape)"
   ]
  },
  {
   "cell_type": "markdown",
   "metadata": {
    "pycharm": {}
   },
   "source": [
    "Get a list of predictor names and make numpy matrices of the data:"
   ]
  },
  {
   "cell_type": "code",
   "execution_count": 7,
   "metadata": {
    "pycharm": {}
   },
   "outputs": [],
   "source": [
    "predictors = list(ameshousingClean.columns)\n",
    "predictors.remove('Sale_Price')\n",
    "\n",
    "# \n",
    "pickle.dump(predictors, open('models/predictors.pickle', 'wb'))"
   ]
  },
  {
   "cell_type": "code",
   "execution_count": 8,
   "metadata": {
    "pycharm": {}
   },
   "outputs": [],
   "source": [
    "# Create training and test response vectors\n",
    "ames_train_y = np.log10(ames_train['Sale_Price'])\n",
    "ames_test_y = np.log10(ames_test['Sale_Price'])\n",
    "\n",
    "# Write training and test design matrices\n",
    "ames_train_X = ames_train[predictors].copy()\n",
    "ames_test_X = ames_test[predictors].copy()\n",
    "\n",
    "\n",
    "# save them to files as well (this is an extra step that's not necessary in class, but useful for our jupyter notebook class notes)\n",
    "pickle.dump(ames_train_y, open('models/ames_train_y.pickle', 'wb'))\n",
    "pickle.dump(ames_test_y, open('models/ames_test_y.pickle', 'wb'))\n",
    "pickle.dump(ames_train_X, open('models/ames_train_X.pickle', 'wb'))\n",
    "pickle.dump(ames_test_X, open('models/ames_test_X.pickle', 'wb'))"
   ]
  },
  {
   "cell_type": "code",
   "execution_count": 9,
   "metadata": {},
   "outputs": [
    {
     "data": {
      "text/plain": [
       "pandas.core.frame.DataFrame"
      ]
     },
     "execution_count": 9,
     "metadata": {},
     "output_type": "execute_result"
    }
   ],
   "source": [
    "type(ames_train_X)"
   ]
  },
  {
   "cell_type": "code",
   "execution_count": 10,
   "metadata": {},
   "outputs": [
    {
     "data": {
      "text/plain": [
       "pandas.core.series.Series"
      ]
     },
     "execution_count": 10,
     "metadata": {},
     "output_type": "execute_result"
    }
   ],
   "source": [
    "type(ames_train_y)"
   ]
  },
  {
   "cell_type": "markdown",
   "metadata": {},
   "source": [
    "## Fit OLS models with different features"
   ]
  },
  {
   "cell_type": "code",
   "execution_count": 20,
   "metadata": {
    "pycharm": {}
   },
   "outputs": [
    {
     "name": "stderr",
     "output_type": "stream",
     "text": [
      "/Users/darya/anaconda3/lib/python3.7/site-packages/sklearn/preprocessing/data.py:625: DataConversionWarning: Data with input dtype uint8, int64, float64 were all converted to float64 by StandardScaler.\n",
      "  return self.partial_fit(X, y)\n",
      "/Users/darya/anaconda3/lib/python3.7/site-packages/sklearn/base.py:465: DataConversionWarning: Data with input dtype uint8, int64, float64 were all converted to float64 by StandardScaler.\n",
      "  return self.fit(X, y, **fit_params).transform(X)\n"
     ]
    },
    {
     "data": {
      "text/plain": [
       "LinearRegression(copy_X=True, fit_intercept=True, n_jobs=None,\n",
       "         normalize=False)"
      ]
     },
     "execution_count": 20,
     "metadata": {},
     "output_type": "execute_result"
    }
   ],
   "source": [
    "## Fit an Ordinary Least Squares Regression using all variables\n",
    "ames_ols_all = LinearRegression()\n",
    "ames_ols_all.fit(ames_train_X, ames_train_y)\n",
    "\n",
    "\n",
    "## Fit an Ordinary Least Squares Regression using Gr_Liv_Area\n",
    "ames_ols_GrLivArea = LinearRegression()\n",
    "ames_ols_GrLivArea.fit(ames_train_X['Gr_Liv_Area'].values.reshape(-1, 1), ames_train_y)\n",
    "\n",
    "## \n",
    "ames_ols_Second_Flr_SF = LinearRegression()\n",
    "ames_ols_Second_Flr_SF.fit(ames_train_X['Second_Flr_SF'].values.reshape(-1, 1), ames_train_y)\n",
    "\n",
    "## Fit an Ordinary Least Squares Regression using Gr_Liv_Area and Second_Flr_SF\n",
    "ames_ols_GrLivArea_Second_Flr_SF = LinearRegression()\n",
    "ames_ols_GrLivArea_Second_Flr_SF.fit(ames_train_X[['Gr_Liv_Area','Second_Flr_SF']], ames_train_y)\n",
    "\n",
    "## Fit an Ordinary Least Squares Regression using Gr_Liv_Area and Age\n",
    "ames_ols_GrLivArea_Age = LinearRegression()\n",
    "ames_ols_GrLivArea_Age.fit(ames_train_X[['Gr_Liv_Area','Age']], ames_train_y)"
   ]
  },
  {
   "cell_type": "markdown",
   "metadata": {
    "pycharm": {}
   },
   "source": [
    "## Assess model fit"
   ]
  },
  {
   "cell_type": "code",
   "execution_count": 27,
   "metadata": {
    "pycharm": {
     "is_executing": false
    }
   },
   "outputs": [
    {
     "data": {
      "text/html": [
       "<div>\n",
       "<style scoped>\n",
       "    .dataframe tbody tr th:only-of-type {\n",
       "        vertical-align: middle;\n",
       "    }\n",
       "\n",
       "    .dataframe tbody tr th {\n",
       "        vertical-align: top;\n",
       "    }\n",
       "\n",
       "    .dataframe thead th {\n",
       "        text-align: right;\n",
       "    }\n",
       "</style>\n",
       "<table border=\"1\" class=\"dataframe\">\n",
       "  <thead>\n",
       "    <tr style=\"text-align: right;\">\n",
       "      <th></th>\n",
       "      <th>Test RMSE</th>\n",
       "      <th>Test R2</th>\n",
       "      <th>Test MAE</th>\n",
       "    </tr>\n",
       "  </thead>\n",
       "  <tbody>\n",
       "    <tr>\n",
       "      <th>All</th>\n",
       "      <td>18810.886</td>\n",
       "      <td>0.946</td>\n",
       "      <td>11761.208</td>\n",
       "    </tr>\n",
       "    <tr>\n",
       "      <th>GrLivArea_Age</th>\n",
       "      <td>50897.025</td>\n",
       "      <td>0.603</td>\n",
       "      <td>29818.203</td>\n",
       "    </tr>\n",
       "    <tr>\n",
       "      <th>GrLivArea</th>\n",
       "      <td>64884.161</td>\n",
       "      <td>0.355</td>\n",
       "      <td>40056.146</td>\n",
       "    </tr>\n",
       "    <tr>\n",
       "      <th>Second_Flr_SF</th>\n",
       "      <td>78956.645</td>\n",
       "      <td>0.046</td>\n",
       "      <td>53158.416</td>\n",
       "    </tr>\n",
       "    <tr>\n",
       "      <th>GrLivArea Second_Flr_SF</th>\n",
       "      <td>79609.931</td>\n",
       "      <td>0.030</td>\n",
       "      <td>38615.494</td>\n",
       "    </tr>\n",
       "  </tbody>\n",
       "</table>\n",
       "</div>"
      ],
      "text/plain": [
       "                         Test RMSE  Test R2   Test MAE\n",
       "All                      18810.886    0.946  11761.208\n",
       "GrLivArea_Age            50897.025    0.603  29818.203\n",
       "GrLivArea                64884.161    0.355  40056.146\n",
       "Second_Flr_SF            78956.645    0.046  53158.416\n",
       "GrLivArea Second_Flr_SF  79609.931    0.030  38615.494"
      ]
     },
     "execution_count": 27,
     "metadata": {},
     "output_type": "execute_result"
    }
   ],
   "source": [
    "columns=['Test RMSE', 'Test R2', 'Test MAE']\n",
    "rows=['All', 'GrLivArea','Second_Flr_SF', 'GrLivArea_Age', 'GrLivArea Second_Flr_SF']\n",
    "results=pd.DataFrame(0.0, columns=columns, index=rows)\n",
    "\n",
    "\n",
    "\n",
    "\n",
    "def assess_fit_vars(listOfMethods, variables, testX, testY):\n",
    "    for i, method in enumerate(methods):\n",
    "        if variables[i] != \":\":\n",
    "            tmp_test_X = testX[variables[i]]\n",
    "            if type(variables[i]) == str: #only one column - so need to reshape\n",
    "                tmp_test_X = testX[variables[i]].values.reshape(-1, 1)\n",
    "        else:\n",
    "            tmp_test_X=testX\n",
    "        # while we build the model and predict on the log10Transformed sale price, we display the error in dollars\n",
    "        # as that makes more sense\n",
    "        y_pred=10**(method.predict(tmp_test_X))\n",
    "        results.iloc[i,0] = np.sqrt(mean_squared_error(10**(testY), y_pred))\n",
    "        results.iloc[i,1] = r2_score(10**(testY), y_pred)\n",
    "        results.iloc[i,2] = mean_absolute_error(10**(testY), y_pred)\n",
    "    return(results.round(3))\n",
    "\n",
    "methods =[ames_ols_all,  ames_ols_GrLivArea, ames_ols_Second_Flr_SF, ames_ols_GrLivArea_Age, ames_ols_GrLivArea_Second_Flr_SF]\n",
    "\n",
    "variables =[\":\", 'Gr_Liv_Area','Second_Flr_SF',['Gr_Liv_Area', 'Age'], ['Gr_Liv_Area', 'Second_Flr_SF']]\n",
    "\n",
    "compare_train = assess_fit_vars(listOfMethods = methods,variables=variables, testX = ames_train_X, testY = ames_train_y)\n",
    "compare_train.sort_values('Test RMSE')"
   ]
  },
  {
   "cell_type": "code",
   "execution_count": null,
   "metadata": {},
   "outputs": [],
   "source": [
    "# on the test! set\n",
    "compare = assess_fit_vars(listOfMethods = methods,variables=variables, testX = ames_test_X, testY = ames_test_y)\n",
    "compare.sort_values('Test RMSE')"
   ]
  },
  {
   "cell_type": "code",
   "execution_count": 86,
   "metadata": {
    "pycharm": {}
   },
   "outputs": [
    {
     "name": "stdout",
     "output_type": "stream",
     "text": [
      "10\n",
      "32\n",
      "8\n"
     ]
    }
   ],
   "source": [
    "# lets explore the coefficients\n",
    "print(ameshousingClean.columns.get_loc('Gr_Liv_Area'))\n",
    "print(ameshousingClean.columns.get_loc('Age'))\n",
    "print(ameshousingClean.columns.get_loc('Second_Flr_SF'))"
   ]
  },
  {
   "cell_type": "markdown",
   "metadata": {},
   "source": [
    "> ## Challenge 2\n",
    ">\n",
    "> 1. Explore the coefficients for Gr_Liv_Area, Second_Flr_SF,  Gr_Liv_Area + Second_Flr_SF, \n",
    "> Gr_Liv_Area + Age, and the coefficients for these parameters for a model that \n",
    "> incorporates all of them. What do you observe? Are the coefficients for each parameter consistent among all the models?\n",
    ">\n",
    "> 2. Which model performs the best? Why? \n",
    ">\n",
    "> 3. Does the same model perform best for the training and test data? Why?\n",
    ">\n",
    ">\n",
    ">\n",
    "> {: .source}\n",
    ">\n",
    "> > ## Solution\n",
    "> > \n",
    "> > This is a discussion challenge. Answers will be discussed as a group. \n",
    "> > To get the coefficients for each model, use the `ames_ols_GrLivArea.coef_` method.\n",
    "> >\n",
    "> > \n",
    "> > \n",
    "> > {: .output}\n",
    "> {: .solution}\n",
    "{: .challenge}"
   ]
  },
  {
   "cell_type": "code",
   "execution_count": 87,
   "metadata": {},
   "outputs": [],
   "source": [
    "# save OLS model to pickle\n",
    "pickle.dump(ames_ols_all, open('models/ames_ols_all.pickle', 'wb'))"
   ]
  },
  {
   "cell_type": "code",
   "execution_count": null,
   "metadata": {},
   "outputs": [],
   "source": [
    "# Import CSV mtcars\n",
    "data = pd.read_csv('https://gist.githubusercontent.com/ZeccaLehn/4e06d2575eb9589dbe8c365d61cb056c/raw/64f1660f38ef523b2a1a13be77b002b98665cdfe/mtcars.csv')\n",
    "# Edit element of column header\n",
    "data.rename(columns={'Unnamed: 0':'brand'}, inplace=True)\n",
    "\n",
    "\n",
    "\n",
    "ameshousingClean = ameshousingClean.drop('Sale_Price_quartile', axis = 1)\n",
    "\n",
    "# Create variables for the training and test sets \n",
    "ames_train = ameshousingClean.loc[index_train,:].copy()\n",
    "ames_test =  ameshousingClean.loc[index_test,:].copy()"
   ]
  },
  {
   "cell_type": "code",
   "execution_count": 11,
   "metadata": {},
   "outputs": [
    {
     "data": {
      "text/html": [
       "<div>\n",
       "<style scoped>\n",
       "    .dataframe tbody tr th:only-of-type {\n",
       "        vertical-align: middle;\n",
       "    }\n",
       "\n",
       "    .dataframe tbody tr th {\n",
       "        vertical-align: top;\n",
       "    }\n",
       "\n",
       "    .dataframe thead th {\n",
       "        text-align: right;\n",
       "    }\n",
       "</style>\n",
       "<table border=\"1\" class=\"dataframe\">\n",
       "  <thead>\n",
       "    <tr style=\"text-align: right;\">\n",
       "      <th></th>\n",
       "      <th>manufacturer</th>\n",
       "      <th>model</th>\n",
       "      <th>displ</th>\n",
       "      <th>year</th>\n",
       "      <th>cyl</th>\n",
       "      <th>trans</th>\n",
       "      <th>drv</th>\n",
       "      <th>cty</th>\n",
       "      <th>hwy</th>\n",
       "      <th>fl</th>\n",
       "      <th>class</th>\n",
       "    </tr>\n",
       "  </thead>\n",
       "  <tbody>\n",
       "    <tr>\n",
       "      <th>0</th>\n",
       "      <td>audi</td>\n",
       "      <td>a4</td>\n",
       "      <td>1.8</td>\n",
       "      <td>1999</td>\n",
       "      <td>4</td>\n",
       "      <td>auto(l5)</td>\n",
       "      <td>f</td>\n",
       "      <td>18</td>\n",
       "      <td>29</td>\n",
       "      <td>p</td>\n",
       "      <td>compact</td>\n",
       "    </tr>\n",
       "    <tr>\n",
       "      <th>1</th>\n",
       "      <td>audi</td>\n",
       "      <td>a4</td>\n",
       "      <td>1.8</td>\n",
       "      <td>1999</td>\n",
       "      <td>4</td>\n",
       "      <td>manual(m5)</td>\n",
       "      <td>f</td>\n",
       "      <td>21</td>\n",
       "      <td>29</td>\n",
       "      <td>p</td>\n",
       "      <td>compact</td>\n",
       "    </tr>\n",
       "    <tr>\n",
       "      <th>2</th>\n",
       "      <td>audi</td>\n",
       "      <td>a4</td>\n",
       "      <td>2.0</td>\n",
       "      <td>2008</td>\n",
       "      <td>4</td>\n",
       "      <td>manual(m6)</td>\n",
       "      <td>f</td>\n",
       "      <td>20</td>\n",
       "      <td>31</td>\n",
       "      <td>p</td>\n",
       "      <td>compact</td>\n",
       "    </tr>\n",
       "    <tr>\n",
       "      <th>3</th>\n",
       "      <td>audi</td>\n",
       "      <td>a4</td>\n",
       "      <td>2.0</td>\n",
       "      <td>2008</td>\n",
       "      <td>4</td>\n",
       "      <td>auto(av)</td>\n",
       "      <td>f</td>\n",
       "      <td>21</td>\n",
       "      <td>30</td>\n",
       "      <td>p</td>\n",
       "      <td>compact</td>\n",
       "    </tr>\n",
       "    <tr>\n",
       "      <th>4</th>\n",
       "      <td>audi</td>\n",
       "      <td>a4</td>\n",
       "      <td>2.8</td>\n",
       "      <td>1999</td>\n",
       "      <td>6</td>\n",
       "      <td>auto(l5)</td>\n",
       "      <td>f</td>\n",
       "      <td>16</td>\n",
       "      <td>26</td>\n",
       "      <td>p</td>\n",
       "      <td>compact</td>\n",
       "    </tr>\n",
       "  </tbody>\n",
       "</table>\n",
       "</div>"
      ],
      "text/plain": [
       "  manufacturer model  displ  year  cyl       trans drv  cty  hwy fl    class\n",
       "0         audi    a4    1.8  1999    4    auto(l5)   f   18   29  p  compact\n",
       "1         audi    a4    1.8  1999    4  manual(m5)   f   21   29  p  compact\n",
       "2         audi    a4    2.0  2008    4  manual(m6)   f   20   31  p  compact\n",
       "3         audi    a4    2.0  2008    4    auto(av)   f   21   30  p  compact\n",
       "4         audi    a4    2.8  1999    6    auto(l5)   f   16   26  p  compact"
      ]
     },
     "execution_count": 11,
     "metadata": {},
     "output_type": "execute_result"
    }
   ],
   "source": [
    "data = pd.read_csv('https://raw.githubusercontent.com/tidyverse/ggplot2/master/data-raw/mpg.csv')\n",
    "data.head()\n",
    "\n",
    "sns.lmplot(\n",
    "    data = data,\n",
    "    x = 'cty', y = 'hwy', hue = 'drv'\n",
    ")"
   ]
  },
  {
   "cell_type": "code",
   "execution_count": 16,
   "metadata": {},
   "outputs": [
    {
     "data": {
      "text/plain": [
       "<seaborn.axisgrid.FacetGrid at 0x1c1fa51e80>"
      ]
     },
     "execution_count": 16,
     "metadata": {},
     "output_type": "execute_result"
    },
    {
     "data": {
      "image/png": "[encoded data removed]",
      "text/plain": [
       "<Figure size 428.525x360 with 1 Axes>"
      ]
     },
     "metadata": {
      "needs_background": "light"
     },
     "output_type": "display_data"
    }
   ],
   "source": []
  },
  {
   "cell_type": "code",
   "execution_count": null,
   "metadata": {},
   "outputs": [],
   "source": []
  }
 ],
 "metadata": {
  "kernelspec": {
   "display_name": "Python 3",
   "language": "python",
   "name": "python3"
  },
  "language_info": {
   "codemirror_mode": {
    "name": "ipython",
    "version": 3
   },
   "file_extension": ".py",
   "mimetype": "text/x-python",
   "name": "python",
   "nbconvert_exporter": "python",
   "pygments_lexer": "ipython3",
   "version": "3.7.2"
  }
 },
 "nbformat": 4,
 "nbformat_minor": 2
}
