{
 "cells": [
  {
   "cell_type": "raw",
   "metadata": {},
   "source": [
    "<!--\n",
    "---\n",
    "title: \"Unsupervised learning\"\n",
    "author: \"Darya Vanichkina, Madhura Killedar\"\n",
    "keypoints:\n",
    "- Unsupervised learning is an approach where we use machine learning to search for patterns in the data \n",
    "source: Rmd\n",
    "start: 0\n",
    "teaching: 30\n",
    "exercises: 0\n",
    "---\n",
    "\n",
    "-->\n"
   ]
  },
  {
   "cell_type": "markdown",
   "metadata": {},
   "source": [
    "# Unsupervised learning"
   ]
  },
  {
   "cell_type": "code",
   "execution_count": null,
   "metadata": {
    "collapsed": false
   },
   "outputs": [],
   "source": [
    "import matplotlib.pyplot as plt\n",
    "import numpy as np\n",
    "import pandas as pd\n",
    "from pandas.api.types import CategoricalDtype\n",
    "import seaborn as sns\n",
    "\n",
    "def warn(*args, **kwargs):\n",
    "    pass\n",
    "import warnings\n",
    "warnings.warn = warn\n",
    "\n",
    "\n",
    "from sklearn.cluster import KMeans, AgglomerativeClustering\n",
    "from sklearn.metrics import silhouette_samples, silhouette_score\n",
    "from scipy.cluster.hierarchy import dendrogram, linkage\n",
    "from sklearn.decomposition import PCA\n",
    "from sklearn.manifold import TSNE\n",
    "\n",
    "from sklearn.pipeline import Pipeline\n",
    "from sklearn.preprocessing import StandardScaler, RobustScaler\n",
    "\n",
    "from sklearn.utils import resample\n",
    "\n",
    "\n",
    "# Set up plotting options for seaborn and matplotlib\n",
    "sns.set_context('notebook') \n",
    "sns.set_style('ticks') \n",
    "%matplotlib inline\n",
    "plt.rcParams['figure.figsize'] = (9, 6)"
   ]
  },
  {
   "cell_type": "markdown",
   "metadata": {},
   "source": [
    "## Dataset\n",
    "We will be using the Iris dataset in order to demo unsupervised learning methods"
   ]
  },
  {
   "cell_type": "code",
   "execution_count": null,
   "metadata": {
    "collapsed": false
   },
   "outputs": [],
   "source": [
    "iris = sns.load_dataset('iris')\n",
    "iris.head()"
   ]
  },
  {
   "cell_type": "markdown",
   "metadata": {},
   "source": [
    "There are three species (our target label)"
   ]
  },
  {
   "cell_type": "code",
   "execution_count": null,
   "metadata": {
    "collapsed": false
   },
   "outputs": [],
   "source": [
    "iris['species'].unique()"
   ]
  },
  {
   "cell_type": "code",
   "execution_count": null,
   "metadata": {
    "collapsed": false
   },
   "outputs": [],
   "source": [
    "iris_features = iris.iloc[:,0:4]\n",
    "iris_target = iris.iloc[:,4]\n",
    "print(iris_features.head())"
   ]
  },
  {
   "cell_type": "code",
   "execution_count": null,
   "metadata": {
    "collapsed": false
   },
   "outputs": [],
   "source": [
    "_ = sns.scatterplot(x='petal_length',y='sepal_width', data=iris, hue=iris_target)"
   ]
  },
  {
   "cell_type": "markdown",
   "metadata": {},
   "source": [
    "> ## Challenge 1\n",
    ">\n",
    "> 1. Take a few moments to explore the Iris dataset. What can you learn? Which species do you think will be easier to separate?\n",
    "> \n",
    "{: .challenge}"
   ]
  },
  {
   "cell_type": "markdown",
   "metadata": {},
   "source": [
    "## K-means clustering\n",
    "K-means looks for a fixed number (k) of clusters in a dataset. The K-means algorithm:\n",
    "- identifies k number of centroids\n",
    "- allocates every data point to the nearest cluster, while keeping the centroids as small as possible.\n",
    "- performs iterative (repetitive) calculations to optimize the positions of the centroids\n",
    "\n",
    "### scale data"
   ]
  },
  {
   "cell_type": "code",
   "execution_count": null,
   "metadata": {
    "collapsed": true
   },
   "outputs": [],
   "source": [
    "iris_features_sc = RobustScaler().fit_transform(iris_features)"
   ]
  },
  {
   "cell_type": "markdown",
   "metadata": {},
   "source": [
    "### Try 2 clusters"
   ]
  },
  {
   "cell_type": "code",
   "execution_count": null,
   "metadata": {
    "collapsed": false
   },
   "outputs": [],
   "source": [
    "model_kmeans_k2 = KMeans(n_clusters=2, random_state=0)\n",
    "labels_k2 = model_kmeans_k2.fit_predict(iris_features_sc)"
   ]
  },
  {
   "cell_type": "code",
   "execution_count": null,
   "metadata": {
    "collapsed": false
   },
   "outputs": [],
   "source": [
    "_ = plt.scatter(iris['petal_length'], iris['sepal_width'], c=labels_k2, cmap='viridis', edgecolor='k')\n",
    "_ = plt.xlabel('petal_length')\n",
    "_ = plt.ylabel('sepal_width')"
   ]
  },
  {
   "cell_type": "markdown",
   "metadata": {},
   "source": [
    "### Try 3 clusters"
   ]
  },
  {
   "cell_type": "code",
   "execution_count": null,
   "metadata": {
    "collapsed": false
   },
   "outputs": [],
   "source": [
    "model_kmeans_k3 = KMeans(n_clusters=3, random_state=0)\n",
    "labels_k3 = model_kmeans_k3.fit_predict(iris_features_sc)"
   ]
  },
  {
   "cell_type": "code",
   "execution_count": null,
   "metadata": {
    "collapsed": false
   },
   "outputs": [],
   "source": [
    "_ = plt.scatter(iris['petal_length'], iris['sepal_width'], c=labels_k3, cmap='viridis', edgecolor='k')\n",
    "_ = plt.xlabel('petal_length')\n",
    "_ = plt.ylabel('sepal_width')"
   ]
  },
  {
   "cell_type": "markdown",
   "metadata": {},
   "source": [
    "> ## Challenge 2\n",
    ">\n",
    "> 1. Which features best appear to separate the species? \n",
    "> \n",
    "{: .challenge}"
   ]
  },
  {
   "cell_type": "markdown",
   "metadata": {},
   "source": [
    "### Optimal number of clusters\n",
    "One of the trickier tasks in clustering is identifying the appropriate number of clusters k."
   ]
  },
  {
   "cell_type": "code",
   "execution_count": null,
   "metadata": {
    "collapsed": false
   },
   "outputs": [],
   "source": [
    "from scipy.spatial.distance import cdist\n",
    "\n",
    "k_range = np.arange(2,12)\n",
    "silhouette_avgs = []\n",
    "sum_squared_distances = []\n",
    "\n",
    "for i, k in enumerate(k_range):\n",
    "    model_kmeans = KMeans(n_clusters=k, random_state=2)\n",
    "    label_kmeans = model_kmeans.fit_predict(iris_features_sc)\n",
    "    silhouette_avgs.append(silhouette_score(iris_features_sc, label_kmeans))    \n",
    "    sum_squared_distances.append(model_kmeans.inertia_)"
   ]
  },
  {
   "cell_type": "code",
   "execution_count": null,
   "metadata": {
    "collapsed": false
   },
   "outputs": [],
   "source": [
    "# Look for maximum\n",
    "_ = plt.plot(k_range, silhouette_avgs)\n",
    "_ = plt.ylabel('Average Silhouette score') \n",
    "_ = plt.xlabel('Number of clusters')"
   ]
  },
  {
   "cell_type": "code",
   "execution_count": null,
   "metadata": {
    "collapsed": false
   },
   "outputs": [],
   "source": [
    "# look for elbow. Also known as Scree plot\n",
    "_ = plt.plot(k_range, sum_squared_distances)\n",
    "_ = plt.ylabel('WCSS') #within cluster sum of squared distances\n",
    "_ = plt.xlabel('Number of clusters')"
   ]
  },
  {
   "cell_type": "markdown",
   "metadata": {},
   "source": [
    "## Hierarchical Clustering"
   ]
  },
  {
   "cell_type": "code",
   "execution_count": null,
   "metadata": {
    "collapsed": false
   },
   "outputs": [],
   "source": [
    "linked = linkage(iris_features_sc, method='ward')\n",
    "\n",
    "dendrogram(linked,  \n",
    "            orientation='top',\n",
    "            distance_sort='descending',\n",
    "            show_leaf_counts=True)\n",
    "plt.show()"
   ]
  },
  {
   "cell_type": "code",
   "execution_count": null,
   "metadata": {
    "collapsed": false
   },
   "outputs": [],
   "source": [
    "model_hclust = AgglomerativeClustering(n_clusters=3, linkage='ward')\n",
    "iris_hc = model_hclust.fit(iris_features_sc)\n",
    "#model_hclust.fit_predict(iris_features_sc)"
   ]
  },
  {
   "cell_type": "code",
   "execution_count": null,
   "metadata": {
    "collapsed": false
   },
   "outputs": [],
   "source": [
    "_ = plt.scatter(iris['petal_length'], iris['sepal_width'], c=model_hclust.labels_, cmap='viridis', edgecolor='k')\n",
    "_ = plt.xlabel('petal_length')\n",
    "_ = plt.ylabel('sepal_width')"
   ]
  },
  {
   "cell_type": "markdown",
   "metadata": {},
   "source": [
    "### plotting data"
   ]
  },
  {
   "cell_type": "code",
   "execution_count": null,
   "metadata": {
    "collapsed": false
   },
   "outputs": [],
   "source": [
    "_ = sns.clustermap(iris_features, method='ward')"
   ]
  },
  {
   "cell_type": "markdown",
   "metadata": {},
   "source": [
    "## Principal Component Analysis (PCA)"
   ]
  },
  {
   "cell_type": "code",
   "execution_count": null,
   "metadata": {
    "collapsed": false
   },
   "outputs": [],
   "source": [
    "nPCs = 3\n",
    "PCnames = ['PC1','PC2','PC3']\n",
    "iris_pca = PCA(n_components=nPCs).fit(iris_features)\n",
    "iris_reduced = model_pca.fit_transform(iris_features)"
   ]
  },
  {
   "cell_type": "code",
   "execution_count": null,
   "metadata": {
    "collapsed": false
   },
   "outputs": [],
   "source": [
    "iris_PC_df = pd.DataFrame(iris_reduced, columns = PCnames)\n",
    "_ = sns.scatterplot(x='PC1',y='PC2', data=iris_PC_df, hue=iris_target)"
   ]
  },
  {
   "cell_type": "markdown",
   "metadata": {},
   "source": [
    "### Eigenvalues"
   ]
  },
  {
   "cell_type": "code",
   "execution_count": null,
   "metadata": {
    "collapsed": false
   },
   "outputs": [],
   "source": [
    "iris_eig = iris_pca.explained_variance_ratio_\n",
    "\n",
    "x = np.arange(nPCs)\n",
    "fig, ax = plt.subplots()\n",
    "plt.bar(x, iris_eig)\n",
    "plt.ylabel('Percentage of explained variance')\n",
    "plt.xlabel('Principal Component')\n",
    "plt.xticks(x, PCnames)\n",
    "_ = plt.show()"
   ]
  },
  {
   "cell_type": "code",
   "execution_count": null,
   "metadata": {
    "collapsed": true
   },
   "outputs": [],
   "source": [
    "iris_comp = iris_pca.components_\n",
    "#print(iris_comp)"
   ]
  },
  {
   "cell_type": "code",
   "execution_count": null,
   "metadata": {
    "collapsed": false
   },
   "outputs": [],
   "source": [
    "origin = [0], [0] # origin point\n",
    "for pc in np.arange(nPCs):\n",
    "    plt.plot([0,iris_comp[pc,0]], [0,iris_comp[pc,1]], label=PCnames[pc])\n",
    "plt.xlabel(iris_features.columns[0])\n",
    "plt.ylabel(iris_features.columns[1])\n",
    "plt.legend()\n",
    "_ = plt.show()"
   ]
  },
  {
   "cell_type": "code",
   "execution_count": null,
   "metadata": {
    "collapsed": false
   },
   "outputs": [],
   "source": [
    "_ = sns.scatterplot(x='PC2',y='PC3', data=iris_PC_df, hue=iris_target)"
   ]
  },
  {
   "cell_type": "markdown",
   "metadata": {
    "collapsed": true
   },
   "source": [
    "## t-SNE"
   ]
  },
  {
   "cell_type": "code",
   "execution_count": null,
   "metadata": {
    "collapsed": true
   },
   "outputs": [],
   "source": [
    "model_tsne = TSNE(n_components=2, perplexity=25)\n",
    "iris_tsne = model_tsne.fit_transform(iris_features)"
   ]
  },
  {
   "cell_type": "code",
   "execution_count": null,
   "metadata": {
    "collapsed": false
   },
   "outputs": [],
   "source": [
    "iris_TSNE_df = pd.DataFrame(iris_tsne, columns = ['Dim1','Dim2'])\n",
    "_ = sns.scatterplot(x='Dim1',y='Dim2', data=iris_TSNE_df, hue=iris_target)"
   ]
  },
  {
   "cell_type": "code",
   "execution_count": null,
   "metadata": {
    "collapsed": true
   },
   "outputs": [],
   "source": []
  }
 ],
 "metadata": {
  "kernelspec": {
   "display_name": "Python 3",
   "language": "python",
   "name": "python3"
  },
  "language_info": {
   "codemirror_mode": {
    "name": "ipython",
    "version": 3
   },
   "file_extension": ".py",
   "mimetype": "text/x-python",
   "name": "python",
   "nbconvert_exporter": "python",
   "pygments_lexer": "ipython3",
   "version": "3.6.8"
  }
 },
 "nbformat": 4,
 "nbformat_minor": 2
}
