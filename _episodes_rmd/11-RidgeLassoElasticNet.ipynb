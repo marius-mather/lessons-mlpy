{
 "cells": [
  {
   "cell_type": "markdown",
   "metadata": {},
   "source": [
    "<!--\n",
    "---\n",
    "title: \"Regularised Regression. Principle components Regression. Partial Least Squares Regression.\"\n",
    "author: \"Darya Vanichkina\"\n",
    "exercises: 30\n",
    "keypoints: \n",
    "- There are many extensions to the basic regression approach which can enable a better fit on the data.\n",
    "source: Rmd\n",
    "start: 0\n",
    "teaching: 30\n",
    "bibliography: references.bib\n",
    "---\n",
    "-->\n",
    "\n",
    "## Regularised Regression. Principle components Regression. Partial Least Squares Regression."
   ]
  },
  {
   "cell_type": "code",
   "execution_count": 1,
   "metadata": {},
   "outputs": [],
   "source": [
    "import matplotlib.pyplot as plt\n",
    "import numpy as np\n",
    "import pandas as pd\n",
    "from pandas.api.types import CategoricalDtype\n",
    "import statsmodels.api as sm\n",
    "import seaborn as sns\n",
    "import pickle\n",
    "\n",
    "def warn(*args, **kwargs):\n",
    "    pass\n",
    "import warnings\n",
    "warnings.warn = warn\n",
    "\n",
    "\n",
    "\n",
    "#from sklearn import preprocessing\n",
    "from sklearn.preprocessing import StandardScaler\n",
    "\n",
    "from sklearn.decomposition import PCA\n",
    "from sklearn.cross_decomposition import PLSRegression\n",
    "from sklearn.linear_model import LinearRegression, RidgeCV, LassoCV, ElasticNet\n",
    "from sklearn.metrics import mean_squared_error, r2_score,  mean_absolute_error\n",
    "from sklearn.model_selection import train_test_split\n",
    "from sklearn.model_selection import GridSearchCV, RandomizedSearchCV\n",
    "from sklearn.pipeline import Pipeline\n",
    "from sklearn.utils import resample\n",
    "\n",
    "\n",
    "\n",
    "# Set up plotting options for seaborn and matplotlib\n",
    "sns.set_context('notebook') \n",
    "sns.set_style('ticks') \n",
    "%matplotlib inline\n",
    "plt.rcParams['figure.figsize'] = (9, 6)"
   ]
  },
  {
   "cell_type": "code",
   "execution_count": 2,
   "metadata": {},
   "outputs": [],
   "source": [
    "# load from previous lessons\n",
    "cached_files = ['models/ames_train_y.pickle','models/ames_test_y.pickle',\n",
    "                'models/ames_train_X.pickle','models/ames_test_X.pickle',\n",
    "                'models/predictors.pickle','models/ames_ols_all.pickle']\n",
    "\n",
    "for file in cached_files:\n",
    "    with open(file, 'rb') as f:\n",
    "        objectname = file.replace('models/', '').replace('.pickle', '')\n",
    "        exec(objectname + \" = pickle.load(f)\")\n",
    "        f.close()"
   ]
  },
  {
   "cell_type": "markdown",
   "metadata": {},
   "source": [
    "## Hyperparameter tuning: selecting the optimal value of lambda\n",
    "\n",
    "Recall that both ridge and lasso regression have an additional parameter, lambda, which captures the penalty for incorporating additional features in the model. \n",
    "\n",
    "\n",
    "Hence, we need to first find the optimal value of lambda (using cross-validation), and THEN fit the model, and assess its fit.\n",
    "\n",
    "Also, for both ridge and lasso regression, the SCALE of the variables matters (because the penalty term in the objective function treats all coefficients as comparable!). So we have to use the `StandardScaler()` function to standardize all numeric variables.\n",
    "\n",
    "We will do all of this in a scikit-learn pipeline:\n",
    "\n",
    "\n",
    "### Ridge regression (L2 regularisation)"
   ]
  },
  {
   "cell_type": "code",
   "execution_count": 3,
   "metadata": {},
   "outputs": [],
   "source": [
    "from sklearn.pipeline import Pipeline\n",
    "\n",
    "# logspace -  returns numbers spaced evenly on a log scale, base 2, from ^-12 to ^10\n",
    "# total of 20 of them\n",
    "\n",
    "alphas = list(np.logspace(-12, 10, 20, base=2))\n",
    "ames_ridge = Pipeline([\n",
    "    ('scaler', StandardScaler()),\n",
    "    ('estimator', RidgeCV(alphas=alphas, cv=10)),\n",
    "])\n",
    "\n",
    "\n",
    "## Toggle comment below to build model\n",
    "# ames_ridge.fit(ames_train_X, ames_train_y)\n",
    "# pickle.dump(ames_ridge, open('models/ames_ridge.pickle', 'wb'))\n",
    "with open('models/ames_ridge.pickle', 'rb') as f:\n",
    "    ames_ridge = pickle.load(f)"
   ]
  },
  {
   "cell_type": "code",
   "execution_count": 4,
   "metadata": {},
   "outputs": [
    {
     "name": "stdout",
     "output_type": "stream",
     "text": [
      "458.922033222583\n"
     ]
    }
   ],
   "source": [
    "# what is the best value of alpha (the penalty parameter for Ridge regression?)\n",
    "best_alpha_ridge = ames_ridge.named_steps.estimator.alpha_\n",
    "print(best_alpha_ridge)"
   ]
  },
  {
   "cell_type": "code",
   "execution_count": 5,
   "metadata": {},
   "outputs": [
    {
     "data": {
      "text/plain": [
       "18"
      ]
     },
     "execution_count": 5,
     "metadata": {},
     "output_type": "execute_result"
    }
   ],
   "source": [
    "# Of the list of elements we tested, which element was it?\n",
    "alphas.index(best_alpha_ridge)"
   ]
  },
  {
   "cell_type": "markdown",
   "metadata": {},
   "source": [
    "### Lasso regression (L1 regularisation) "
   ]
  },
  {
   "cell_type": "code",
   "execution_count": 6,
   "metadata": {},
   "outputs": [],
   "source": [
    "from sklearn.pipeline import Pipeline\n",
    "\n",
    "ames_lasso = Pipeline([\n",
    "    ('scaler', StandardScaler()),\n",
    "    ('estimator', LassoCV(alphas=alphas, cv=10)),\n",
    "])\n",
    "\n",
    "ames_lasso.fit(ames_train_X, ames_train_y)\n",
    "\n",
    "## Toggle comment below to build model\n",
    "# ames_lasso.fit(ames_train_X, ames_train_y)\n",
    "#pickle.dump(ames_lasso, open('models/ames_lasso.pickle', 'wb'))\n",
    "with open('models/ames_lasso.pickle', 'rb') as f:\n",
    "    ames_lasso = pickle.load(f)\n",
    "    \n",
    "    "
   ]
  },
  {
   "cell_type": "code",
   "execution_count": 7,
   "metadata": {},
   "outputs": [
    {
     "name": "stdout",
     "output_type": "stream",
     "text": [
      "0.0005447548426570041\n"
     ]
    }
   ],
   "source": [
    "# what is the best value of alpha (the penalty parameter for Lasso regression?)\n",
    "best_alpha_lasso = ames_lasso.named_steps.estimator.alpha_\n",
    "print(best_alpha_lasso)"
   ]
  },
  {
   "cell_type": "code",
   "execution_count": 8,
   "metadata": {},
   "outputs": [
    {
     "data": {
      "text/plain": [
       "1"
      ]
     },
     "execution_count": 8,
     "metadata": {},
     "output_type": "execute_result"
    }
   ],
   "source": [
    "# Of the list of elements we tested, which element was it?\n",
    "alphas.index(best_alpha_lasso)"
   ]
  },
  {
   "cell_type": "markdown",
   "metadata": {},
   "source": [
    "## Elastic net: combining L1 and L2 regularisation"
   ]
  },
  {
   "cell_type": "code",
   "execution_count": 9,
   "metadata": {},
   "outputs": [],
   "source": [
    "# For l1_ratio = 0 the penalty is an L2 penalty. For l1_ratio = 1 it is an L1 penalty\n",
    "# a * L1 + b * L2\n",
    "# alpha = a + b and l1_ratio = a / (a + b)\n",
    "\n",
    "parametersGrid = {\"alpha\": alphas,\n",
    "                \"l1_ratio\": np.arange(0.01, 1.0, 0.1)}\n",
    "\n",
    "ames_enet = Pipeline([\n",
    "    ('scaler', StandardScaler()),\n",
    "    ('estimator', GridSearchCV(ElasticNet(), parametersGrid, scoring='r2', cv=10)),\n",
    "])\n",
    "\n",
    "## Toggle comment below to build model\n",
    "#ames_enet.fit(ames_train_X, ames_train_y)\n",
    "#pickle.dump(ames_enet, open('models/ames_enet.pickle', 'wb'))\n",
    "with open('models/ames_enet.pickle', 'rb') as f:\n",
    "    ames_enet = pickle.load(f)"
   ]
  },
  {
   "cell_type": "code",
   "execution_count": 10,
   "metadata": {},
   "outputs": [],
   "source": [
    "# get the best parameter values \n",
    "best_params_enet = ames_enet.named_steps.estimator.best_estimator_"
   ]
  },
  {
   "cell_type": "code",
   "execution_count": 11,
   "metadata": {},
   "outputs": [
    {
     "name": "stdout",
     "output_type": "stream",
     "text": [
      "0.06723066163876137\n"
     ]
    }
   ],
   "source": [
    "# what is the best value of alpha (the penalty parameter for Lasso regression?)\n",
    "print(best_params_enet.alpha)"
   ]
  },
  {
   "cell_type": "markdown",
   "metadata": {},
   "source": [
    "> ## Challenge 1\n",
    ">\n",
    "> 1. Look at the coefficients for the model above. What was the balance between L1 (Lasso) and L2 (Ridge) regression?\n",
    "> 2. What value of alpha was found to be optimal? Was this value expected based on the results we got when we ran Lasso and Ridge independently?\n",
    "> \n",
    "> {: .source}\n",
    ">\n",
    "> > ## Solution\n",
    "> > ~~~ \n",
    "> > print(best_params_enet.l1_ratio)\n",
    "> > \n",
    "> > ~~~\n",
    "> > 2. See [this answer](https://stackoverflow.com/questions/47365978/scikit-learn-elastic-net-approaching-ridge) for an explanation why the \n",
    "> >  two values of alpha were not the same.\n",
    "> > {: .output}\n",
    "> {: .solution}\n",
    "{: .challenge}"
   ]
  },
  {
   "cell_type": "code",
   "execution_count": 12,
   "metadata": {},
   "outputs": [
    {
     "data": {
      "text/html": [
       "<div>\n",
       "<style scoped>\n",
       "    .dataframe tbody tr th:only-of-type {\n",
       "        vertical-align: middle;\n",
       "    }\n",
       "\n",
       "    .dataframe tbody tr th {\n",
       "        vertical-align: top;\n",
       "    }\n",
       "\n",
       "    .dataframe thead th {\n",
       "        text-align: right;\n",
       "    }\n",
       "</style>\n",
       "<table border=\"1\" class=\"dataframe\">\n",
       "  <thead>\n",
       "    <tr style=\"text-align: right;\">\n",
       "      <th></th>\n",
       "      <th>Train RMSE</th>\n",
       "    </tr>\n",
       "  </thead>\n",
       "  <tbody>\n",
       "    <tr>\n",
       "      <th>OLS</th>\n",
       "      <td>18810.886</td>\n",
       "    </tr>\n",
       "    <tr>\n",
       "      <th>Ridge</th>\n",
       "      <td>21330.847</td>\n",
       "    </tr>\n",
       "    <tr>\n",
       "      <th>Lasso</th>\n",
       "      <td>20365.796</td>\n",
       "    </tr>\n",
       "    <tr>\n",
       "      <th>ENet</th>\n",
       "      <td>21292.160</td>\n",
       "    </tr>\n",
       "  </tbody>\n",
       "</table>\n",
       "</div>"
      ],
      "text/plain": [
       "       Train RMSE\n",
       "OLS     18810.886\n",
       "Ridge   21330.847\n",
       "Lasso   20365.796\n",
       "ENet    21292.160"
      ]
     },
     "execution_count": 12,
     "metadata": {},
     "output_type": "execute_result"
    }
   ],
   "source": [
    "# What was the RMSE on the training data?\n",
    "columns=['Train RMSE']\n",
    "rows=['OLS','Ridge', 'Lasso', \"ENet\"]\n",
    "results=pd.DataFrame(0.0, columns=columns, index=rows) \n",
    "\n",
    "methods=[ames_ols_all, ames_ridge, ames_lasso, ames_enet]\n",
    "\n",
    "for i, method in enumerate(methods):\n",
    "    y_pred=method.predict(ames_train_X)\n",
    "    results.iloc[i,0] = np.sqrt(mean_squared_error(10**ames_train_y, 10**y_pred))\n",
    "\n",
    "results.round(3)"
   ]
  },
  {
   "cell_type": "code",
   "execution_count": 13,
   "metadata": {},
   "outputs": [
    {
     "data": {
      "text/html": [
       "<div>\n",
       "<style scoped>\n",
       "    .dataframe tbody tr th:only-of-type {\n",
       "        vertical-align: middle;\n",
       "    }\n",
       "\n",
       "    .dataframe tbody tr th {\n",
       "        vertical-align: top;\n",
       "    }\n",
       "\n",
       "    .dataframe thead th {\n",
       "        text-align: right;\n",
       "    }\n",
       "</style>\n",
       "<table border=\"1\" class=\"dataframe\">\n",
       "  <thead>\n",
       "    <tr style=\"text-align: right;\">\n",
       "      <th></th>\n",
       "      <th>Test RMSE</th>\n",
       "    </tr>\n",
       "  </thead>\n",
       "  <tbody>\n",
       "    <tr>\n",
       "      <th>OLS</th>\n",
       "      <td>64792.914</td>\n",
       "    </tr>\n",
       "    <tr>\n",
       "      <th>Ridge</th>\n",
       "      <td>47670.165</td>\n",
       "    </tr>\n",
       "    <tr>\n",
       "      <th>Lasso</th>\n",
       "      <td>59592.173</td>\n",
       "    </tr>\n",
       "    <tr>\n",
       "      <th>ENet</th>\n",
       "      <td>52482.808</td>\n",
       "    </tr>\n",
       "  </tbody>\n",
       "</table>\n",
       "</div>"
      ],
      "text/plain": [
       "       Test RMSE\n",
       "OLS    64792.914\n",
       "Ridge  47670.165\n",
       "Lasso  59592.173\n",
       "ENet   52482.808"
      ]
     },
     "execution_count": 13,
     "metadata": {},
     "output_type": "execute_result"
    }
   ],
   "source": [
    "# Compare with the test data!\n",
    "columns=['Test RMSE']\n",
    "rows=['OLS', 'Ridge', 'Lasso', 'ENet']\n",
    "results=pd.DataFrame(0.0, columns=columns, index=rows) \n",
    "\n",
    "methods=[ames_ols_all,  ames_ridge, ames_lasso, ames_enet]\n",
    "\n",
    "for i, method in enumerate(methods):\n",
    "    y_pred=method.predict(ames_test_X)\n",
    "    results.iloc[i,0] = np.sqrt(mean_squared_error(10**ames_test_y, 10**y_pred))\n",
    "\n",
    "results.round(3)"
   ]
  },
  {
   "cell_type": "markdown",
   "metadata": {},
   "source": [
    "## Compare the coefficients of each of the linear models:"
   ]
  },
  {
   "cell_type": "code",
   "execution_count": 14,
   "metadata": {},
   "outputs": [],
   "source": [
    "def plot_coefficients(model, labels):\n",
    "    coef = model.coef_\n",
    "\n",
    "    table = pd.Series(coef.ravel(), index = labels).sort_values(ascending=True, inplace=False)\n",
    "    \n",
    "    reference = pd.Series(np.abs(coef.ravel()), index = labels).sort_values(ascending=False, inplace=False)\n",
    "    reference = reference.iloc[:20]\n",
    "    table = table[reference.index]\n",
    "    table = table.sort_values(ascending=True, inplace=False)\n",
    "\n",
    "    fig, ax = fig, ax = plt.subplots()\n",
    "    table.T.plot(kind='barh', edgecolor='black', width=0.7, linewidth=.8, alpha=0.9, ax=ax)\n",
    "    ax.tick_params(axis=u'y', length=0) \n",
    "    ax.set_title('Estimated coefficients (twenty largest in absolute value)', fontsize=14)\n",
    "    sns.despine()\n",
    "    return fig, ax"
   ]
  },
  {
   "cell_type": "code",
   "execution_count": 15,
   "metadata": {},
   "outputs": [
    {
     "data": {
      "image/png": "[encoded data removed]",
      "text/plain": [
       "<Figure size 432x288 with 1 Axes>"
      ]
     },
     "metadata": {
      "needs_background": "light"
     },
     "output_type": "display_data"
    }
   ],
   "source": [
    "plot_coefficients(ames_ols_all, predictors)# the final_estimator attribute refers to the pipeline\n",
    "plt.show()"
   ]
  },
  {
   "cell_type": "code",
   "execution_count": 16,
   "metadata": {},
   "outputs": [
    {
     "data": {
      "image/png": "[encoded data removed]",
      "text/plain": [
       "<Figure size 432x288 with 1 Axes>"
      ]
     },
     "metadata": {
      "needs_background": "light"
     },
     "output_type": "display_data"
    }
   ],
   "source": [
    "plot_coefficients(ames_ridge._final_estimator, predictors)# the final_estimator attribute refers to the pipeline\n",
    "plt.show()"
   ]
  },
  {
   "cell_type": "code",
   "execution_count": 17,
   "metadata": {},
   "outputs": [
    {
     "data": {
      "image/png": "[encoded data removed]",
      "text/plain": [
       "<Figure size 432x288 with 1 Axes>"
      ]
     },
     "metadata": {
      "needs_background": "light"
     },
     "output_type": "display_data"
    }
   ],
   "source": [
    "plot_coefficients(ames_lasso._final_estimator, predictors)# the final_estimator attribute refers to the pipeline\n",
    "plt.show()"
   ]
  },
  {
   "cell_type": "code",
   "execution_count": 18,
   "metadata": {},
   "outputs": [
    {
     "data": {
      "image/png": "[encoded data removed]",
      "text/plain": [
       "<Figure size 432x288 with 1 Axes>"
      ]
     },
     "metadata": {
      "needs_background": "light"
     },
     "output_type": "display_data"
    }
   ],
   "source": [
    "plot_coefficients(ames_enet.named_steps.estimator.best_estimator_, predictors)# the final_estimator attribute refers to the pipeline\n",
    "plt.show()"
   ]
  },
  {
   "cell_type": "markdown",
   "metadata": {},
   "source": [
    "> ## Challenge 2\n",
    ">\n",
    "> Compare the top coefficients for the models above. Why do you think the top/bottom predictors are different for each one?\n",
    "> \n",
    "> {: .source}\n",
    ">\n",
    "> > ## Solution\n",
    "> > \n",
    "> > \n",
    "> > {: .output}\n",
    "> {: .solution}\n",
    "{: .challenge}"
   ]
  },
  {
   "cell_type": "markdown",
   "metadata": {},
   "source": [
    "***\n",
    "\n",
    "## Principle components regression (PCR)"
   ]
  },
  {
   "cell_type": "code",
   "execution_count": 19,
   "metadata": {},
   "outputs": [
    {
     "name": "stdout",
     "output_type": "stream",
     "text": [
      "Best parameter (CV score=0.884):\n",
      "{'pca__n_components': 249}\n"
     ]
    }
   ],
   "source": [
    "# Define a pipeline to search for the best combination of PCA an\n",
    "# and linear regression .\n",
    "\n",
    "linreg = LinearRegression()\n",
    "pca = PCA()\n",
    "# how many components?\n",
    "numcomp = list(np.linspace(1,len(ames_train_X.columns), num = 40).round().astype(int))\n",
    "\n",
    "pipe = Pipeline(steps=[('scaler', StandardScaler()), \n",
    "                       ('pca', pca), \n",
    "                       ('linreg', linreg)])\n",
    "param_grid = {'pca__n_components': numcomp}\n",
    "ames_pcr = GridSearchCV(pipe, param_grid, iid=False, cv=5,\n",
    "                      return_train_score=False)\n",
    "\n",
    "\n",
    "\n",
    "## Toggle comment below to build model\n",
    "#ames_pcr.fit(ames_train_X, ames_train_y)\n",
    "#pickle.dump(ames_pcr, open('models/ames_pcr.pickle', 'wb'))\n",
    "with open('models/ames_pcr.pickle', 'rb') as f:\n",
    "    ames_pcr = pickle.load(f)\n",
    "    \n",
    "print(\"Best parameter (CV score=%0.3f):\" % ames_pcr.best_score_)\n",
    "print(ames_pcr.best_params_)"
   ]
  },
  {
   "cell_type": "code",
   "execution_count": 20,
   "metadata": {},
   "outputs": [
    {
     "name": "stdout",
     "output_type": "stream",
     "text": [
      "(2051, 286)\n",
      "[1, 8, 16, 23, 30, 38, 45, 52, 59, 67, 74, 81, 89, 96, 103, 111, 118, 125, 133, 140, 147, 154, 162, 169, 176, 184, 191, 198, 206, 213, 220, 228, 235, 242, 249, 257, 264, 271, 279, 286]\n"
     ]
    }
   ],
   "source": [
    "# How many variables did we have?\n",
    "print(ames_train_X.shape)\n",
    "# Which number of PCs did we test?\n",
    "print(numcomp)"
   ]
  },
  {
   "cell_type": "code",
   "execution_count": 21,
   "metadata": {},
   "outputs": [
    {
     "data": {
      "text/html": [
       "<div>\n",
       "<style scoped>\n",
       "    .dataframe tbody tr th:only-of-type {\n",
       "        vertical-align: middle;\n",
       "    }\n",
       "\n",
       "    .dataframe tbody tr th {\n",
       "        vertical-align: top;\n",
       "    }\n",
       "\n",
       "    .dataframe thead th {\n",
       "        text-align: right;\n",
       "    }\n",
       "</style>\n",
       "<table border=\"1\" class=\"dataframe\">\n",
       "  <thead>\n",
       "    <tr style=\"text-align: right;\">\n",
       "      <th></th>\n",
       "      <th>Train RMSE</th>\n",
       "    </tr>\n",
       "  </thead>\n",
       "  <tbody>\n",
       "    <tr>\n",
       "      <th>OLS</th>\n",
       "      <td>18810.886</td>\n",
       "    </tr>\n",
       "    <tr>\n",
       "      <th>Ridge</th>\n",
       "      <td>21330.847</td>\n",
       "    </tr>\n",
       "    <tr>\n",
       "      <th>PCR</th>\n",
       "      <td>19106.227</td>\n",
       "    </tr>\n",
       "  </tbody>\n",
       "</table>\n",
       "</div>"
      ],
      "text/plain": [
       "       Train RMSE\n",
       "OLS     18810.886\n",
       "Ridge   21330.847\n",
       "PCR     19106.227"
      ]
     },
     "execution_count": 21,
     "metadata": {},
     "output_type": "execute_result"
    }
   ],
   "source": [
    "# What was the RMSE on the training data?\n",
    "columns=['Train RMSE']\n",
    "rows=['OLS','Ridge',  'PCR']\n",
    "results=pd.DataFrame(0.0, columns=columns, index=rows) \n",
    "\n",
    "methods=[ames_ols_all, ames_ridge, ames_pcr]\n",
    "\n",
    "for i, method in enumerate(methods):\n",
    "    y_pred=method.predict(ames_train_X)\n",
    "    results.iloc[i,0] = np.sqrt(mean_squared_error(10**ames_train_y, 10**y_pred))\n",
    "\n",
    "results.round(3)"
   ]
  },
  {
   "cell_type": "code",
   "execution_count": 22,
   "metadata": {},
   "outputs": [
    {
     "data": {
      "text/html": [
       "<div>\n",
       "<style scoped>\n",
       "    .dataframe tbody tr th:only-of-type {\n",
       "        vertical-align: middle;\n",
       "    }\n",
       "\n",
       "    .dataframe tbody tr th {\n",
       "        vertical-align: top;\n",
       "    }\n",
       "\n",
       "    .dataframe thead th {\n",
       "        text-align: right;\n",
       "    }\n",
       "</style>\n",
       "<table border=\"1\" class=\"dataframe\">\n",
       "  <thead>\n",
       "    <tr style=\"text-align: right;\">\n",
       "      <th></th>\n",
       "      <th>Train RMSE</th>\n",
       "    </tr>\n",
       "  </thead>\n",
       "  <tbody>\n",
       "    <tr>\n",
       "      <th>OLS</th>\n",
       "      <td>64792.914</td>\n",
       "    </tr>\n",
       "    <tr>\n",
       "      <th>Ridge</th>\n",
       "      <td>47670.165</td>\n",
       "    </tr>\n",
       "    <tr>\n",
       "      <th>PCR</th>\n",
       "      <td>64658.779</td>\n",
       "    </tr>\n",
       "  </tbody>\n",
       "</table>\n",
       "</div>"
      ],
      "text/plain": [
       "       Train RMSE\n",
       "OLS     64792.914\n",
       "Ridge   47670.165\n",
       "PCR     64658.779"
      ]
     },
     "execution_count": 22,
     "metadata": {},
     "output_type": "execute_result"
    }
   ],
   "source": [
    "# What was the RMSE on the test data?\n",
    "columns=['Train RMSE']\n",
    "rows=['OLS','Ridge',  'PCR']\n",
    "results=pd.DataFrame(0.0, columns=columns, index=rows) \n",
    "\n",
    "methods=[ames_ols_all, ames_ridge, ames_pcr]\n",
    "\n",
    "for i, method in enumerate(methods):\n",
    "    y_pred=method.predict(ames_test_X)\n",
    "    results.iloc[i,0] = np.sqrt(mean_squared_error(10**ames_test_y, 10**y_pred))\n",
    "\n",
    "results.round(3)"
   ]
  },
  {
   "cell_type": "markdown",
   "metadata": {},
   "source": [
    "> ## Challenge 3\n",
    ">\n",
    "> Look at the code above. Is there anything you can do to perhaps slighly improve the fit of the PCR model?\n",
    ">\n",
    "> \n",
    "> {: .source}\n",
    ">\n",
    "> > ## Solution\n",
    "> > \n",
    "> > Test all of the number of principal components from one below the optimum to one right above it. \n",
    "> > \n",
    "> > {: .output}\n",
    "> {: .solution}\n",
    "{: .challenge}"
   ]
  },
  {
   "cell_type": "markdown",
   "metadata": {},
   "source": [
    "***\n",
    "## Partial least squares regression (PLSR)"
   ]
  },
  {
   "cell_type": "code",
   "execution_count": 23,
   "metadata": {},
   "outputs": [],
   "source": [
    "# Define a pipeline to search for the best number of components in PLSR\n",
    "plsr = PLSRegression()\n",
    "# how many components?\n",
    "numcomp = list(np.linspace(1,len(ames_train_X.columns), num = 40).round().astype(int))\n",
    "\n",
    "pipe = Pipeline(steps=[('scaler', StandardScaler()),\n",
    "                       ('plsr', plsr)])\n",
    "param_grid = {'plsr__n_components': numcomp}\n",
    "ames_plsr = GridSearchCV(pipe, param_grid, iid=False, cv=5,\n",
    "                      return_train_score=False)\n",
    "\n",
    "\n",
    "## Toggle comment below to build model\n",
    "#ames_plsr.fit(ames_train_X, ames_train_y)\n",
    "#pickle.dump(ames_plsr, open('models/ames_plsr.pickle', 'wb'))\n",
    "with open('models/ames_plsr.pickle', 'rb') as f:\n",
    "    ames_plsr = pickle.load(f)\n",
    "    \n"
   ]
  },
  {
   "cell_type": "code",
   "execution_count": 24,
   "metadata": {},
   "outputs": [
    {
     "data": {
      "text/plain": [
       "{'plsr__n_components': 8}"
      ]
     },
     "execution_count": 24,
     "metadata": {},
     "output_type": "execute_result"
    }
   ],
   "source": [
    "# how many components were best for fitting the model?\n",
    "ames_plsr.best_params_"
   ]
  },
  {
   "cell_type": "code",
   "execution_count": 25,
   "metadata": {},
   "outputs": [
    {
     "data": {
      "text/html": [
       "<div>\n",
       "<style scoped>\n",
       "    .dataframe tbody tr th:only-of-type {\n",
       "        vertical-align: middle;\n",
       "    }\n",
       "\n",
       "    .dataframe tbody tr th {\n",
       "        vertical-align: top;\n",
       "    }\n",
       "\n",
       "    .dataframe thead th {\n",
       "        text-align: right;\n",
       "    }\n",
       "</style>\n",
       "<table border=\"1\" class=\"dataframe\">\n",
       "  <thead>\n",
       "    <tr style=\"text-align: right;\">\n",
       "      <th></th>\n",
       "      <th>Train RMSE</th>\n",
       "    </tr>\n",
       "  </thead>\n",
       "  <tbody>\n",
       "    <tr>\n",
       "      <th>OLS</th>\n",
       "      <td>18810.886</td>\n",
       "    </tr>\n",
       "    <tr>\n",
       "      <th>Ridge</th>\n",
       "      <td>21330.847</td>\n",
       "    </tr>\n",
       "    <tr>\n",
       "      <th>PCR</th>\n",
       "      <td>19106.227</td>\n",
       "    </tr>\n",
       "    <tr>\n",
       "      <th>PLSR</th>\n",
       "      <td>20072.891</td>\n",
       "    </tr>\n",
       "  </tbody>\n",
       "</table>\n",
       "</div>"
      ],
      "text/plain": [
       "       Train RMSE\n",
       "OLS     18810.886\n",
       "Ridge   21330.847\n",
       "PCR     19106.227\n",
       "PLSR    20072.891"
      ]
     },
     "execution_count": 25,
     "metadata": {},
     "output_type": "execute_result"
    }
   ],
   "source": [
    "# What was the RMSE on the training data?\n",
    "columns=['Train RMSE']\n",
    "rows=['OLS','Ridge',  'PCR', 'PLSR']\n",
    "results=pd.DataFrame(0.0, columns=columns, index=rows) \n",
    "\n",
    "methods=[ames_ols_all, ames_ridge, ames_pcr, ames_plsr]\n",
    "\n",
    "for i, method in enumerate(methods):\n",
    "    y_pred=method.predict(ames_train_X)\n",
    "    results.iloc[i,0] = np.sqrt(mean_squared_error(10**ames_train_y, 10**y_pred))\n",
    "\n",
    "results.round(3)"
   ]
  },
  {
   "cell_type": "code",
   "execution_count": 26,
   "metadata": {},
   "outputs": [
    {
     "data": {
      "text/html": [
       "<div>\n",
       "<style scoped>\n",
       "    .dataframe tbody tr th:only-of-type {\n",
       "        vertical-align: middle;\n",
       "    }\n",
       "\n",
       "    .dataframe tbody tr th {\n",
       "        vertical-align: top;\n",
       "    }\n",
       "\n",
       "    .dataframe thead th {\n",
       "        text-align: right;\n",
       "    }\n",
       "</style>\n",
       "<table border=\"1\" class=\"dataframe\">\n",
       "  <thead>\n",
       "    <tr style=\"text-align: right;\">\n",
       "      <th></th>\n",
       "      <th>Test RMSE</th>\n",
       "    </tr>\n",
       "  </thead>\n",
       "  <tbody>\n",
       "    <tr>\n",
       "      <th>OLS</th>\n",
       "      <td>64792.914</td>\n",
       "    </tr>\n",
       "    <tr>\n",
       "      <th>Ridge</th>\n",
       "      <td>47670.165</td>\n",
       "    </tr>\n",
       "    <tr>\n",
       "      <th>Lasso</th>\n",
       "      <td>59592.173</td>\n",
       "    </tr>\n",
       "    <tr>\n",
       "      <th>Elastic net</th>\n",
       "      <td>52482.808</td>\n",
       "    </tr>\n",
       "    <tr>\n",
       "      <th>PCR</th>\n",
       "      <td>64658.779</td>\n",
       "    </tr>\n",
       "    <tr>\n",
       "      <th>PLSR</th>\n",
       "      <td>51509.933</td>\n",
       "    </tr>\n",
       "  </tbody>\n",
       "</table>\n",
       "</div>"
      ],
      "text/plain": [
       "             Test RMSE\n",
       "OLS          64792.914\n",
       "Ridge        47670.165\n",
       "Lasso        59592.173\n",
       "Elastic net  52482.808\n",
       "PCR          64658.779\n",
       "PLSR         51509.933"
      ]
     },
     "execution_count": 26,
     "metadata": {},
     "output_type": "execute_result"
    }
   ],
   "source": [
    "# What was the RMSE on the test data?\n",
    "columns=['Test RMSE']\n",
    "rows=['OLS','Ridge', 'Lasso','Elastic net', 'PCR', 'PLSR']\n",
    "results=pd.DataFrame(0.0, columns=columns, index=rows) \n",
    "\n",
    "methods=[ames_ols_all, ames_ridge, ames_lasso, ames_enet, ames_pcr, ames_plsr]\n",
    "\n",
    "for i, method in enumerate(methods):\n",
    "    y_pred=method.predict(ames_test_X)\n",
    "    results.iloc[i,0] = np.sqrt(mean_squared_error(10**ames_test_y, 10**y_pred))\n",
    "\n",
    "results.round(3)"
   ]
  },
  {
   "cell_type": "code",
   "execution_count": 27,
   "metadata": {},
   "outputs": [],
   "source": [
    "import sys\n",
    "sys.path.insert(0, 'py-earth')\n",
    "from pyearth import Earth"
   ]
  },
  {
   "cell_type": "code",
   "execution_count": 31,
   "metadata": {},
   "outputs": [],
   "source": [
    "# Define a pipeline to search for the best number of components in PLSR\n",
    "mars = Earth()\n",
    "max_degree = [1,2,3]\n",
    "\n",
    "pipe = Pipeline(steps=[('scaler', StandardScaler()),\n",
    "                       ('mars', mars)])\n",
    "param_grid = {'mars__max_degree': max_degree}\n",
    "ames_mars = GridSearchCV(pipe, param_grid, iid=False, cv=5,\n",
    "                      return_train_score=False)\n",
    "\n",
    "\n",
    "## Toggle comment below to build model\n",
    "#ames_mars.fit(ames_train_X, ames_train_y)\n",
    "#pickle.dump(ames_mars, open('models/ames_mars.pickle', 'wb'))\n",
    "with open('models/ames_mars.pickle', 'rb') as f:\n",
    "    ames_mars = pickle.load(f)\n",
    "    \n"
   ]
  },
  {
   "cell_type": "code",
   "execution_count": 29,
   "metadata": {},
   "outputs": [
    {
     "data": {
      "text/html": [
       "<div>\n",
       "<style scoped>\n",
       "    .dataframe tbody tr th:only-of-type {\n",
       "        vertical-align: middle;\n",
       "    }\n",
       "\n",
       "    .dataframe tbody tr th {\n",
       "        vertical-align: top;\n",
       "    }\n",
       "\n",
       "    .dataframe thead th {\n",
       "        text-align: right;\n",
       "    }\n",
       "</style>\n",
       "<table border=\"1\" class=\"dataframe\">\n",
       "  <thead>\n",
       "    <tr style=\"text-align: right;\">\n",
       "      <th></th>\n",
       "      <th>Train RMSE</th>\n",
       "    </tr>\n",
       "  </thead>\n",
       "  <tbody>\n",
       "    <tr>\n",
       "      <th>OLS</th>\n",
       "      <td>18810.886</td>\n",
       "    </tr>\n",
       "    <tr>\n",
       "      <th>Ridge</th>\n",
       "      <td>21330.847</td>\n",
       "    </tr>\n",
       "    <tr>\n",
       "      <th>Lasso</th>\n",
       "      <td>20365.796</td>\n",
       "    </tr>\n",
       "    <tr>\n",
       "      <th>Elastic net</th>\n",
       "      <td>21292.160</td>\n",
       "    </tr>\n",
       "    <tr>\n",
       "      <th>PCR</th>\n",
       "      <td>19106.227</td>\n",
       "    </tr>\n",
       "    <tr>\n",
       "      <th>PLSR</th>\n",
       "      <td>20072.891</td>\n",
       "    </tr>\n",
       "    <tr>\n",
       "      <th>MARS</th>\n",
       "      <td>20980.471</td>\n",
       "    </tr>\n",
       "  </tbody>\n",
       "</table>\n",
       "</div>"
      ],
      "text/plain": [
       "             Train RMSE\n",
       "OLS           18810.886\n",
       "Ridge         21330.847\n",
       "Lasso         20365.796\n",
       "Elastic net   21292.160\n",
       "PCR           19106.227\n",
       "PLSR          20072.891\n",
       "MARS          20980.471"
      ]
     },
     "execution_count": 29,
     "metadata": {},
     "output_type": "execute_result"
    }
   ],
   "source": [
    "# What was the RMSE on the training data?\n",
    "columns=['Train RMSE']\n",
    "rows=['OLS','Ridge', 'Lasso','Elastic net', 'PCR', 'PLSR','MARS']\n",
    "results=pd.DataFrame(0.0, columns=columns, index=rows) \n",
    "\n",
    "methods=[ames_ols_all, ames_ridge, ames_lasso, ames_enet, ames_pcr, ames_plsr,ames_mars]\n",
    "\n",
    "for i, method in enumerate(methods):\n",
    "    y_pred=method.predict(ames_train_X)\n",
    "    results.iloc[i,0] = np.sqrt(mean_squared_error(10**ames_train_y, 10**y_pred))\n",
    "\n",
    "results.round(3)"
   ]
  },
  {
   "cell_type": "code",
   "execution_count": 30,
   "metadata": {},
   "outputs": [
    {
     "data": {
      "text/html": [
       "<div>\n",
       "<style scoped>\n",
       "    .dataframe tbody tr th:only-of-type {\n",
       "        vertical-align: middle;\n",
       "    }\n",
       "\n",
       "    .dataframe tbody tr th {\n",
       "        vertical-align: top;\n",
       "    }\n",
       "\n",
       "    .dataframe thead th {\n",
       "        text-align: right;\n",
       "    }\n",
       "</style>\n",
       "<table border=\"1\" class=\"dataframe\">\n",
       "  <thead>\n",
       "    <tr style=\"text-align: right;\">\n",
       "      <th></th>\n",
       "      <th>Test RMSE</th>\n",
       "    </tr>\n",
       "  </thead>\n",
       "  <tbody>\n",
       "    <tr>\n",
       "      <th>OLS</th>\n",
       "      <td>64792.914</td>\n",
       "    </tr>\n",
       "    <tr>\n",
       "      <th>Ridge</th>\n",
       "      <td>47670.165</td>\n",
       "    </tr>\n",
       "    <tr>\n",
       "      <th>Lasso</th>\n",
       "      <td>59592.173</td>\n",
       "    </tr>\n",
       "    <tr>\n",
       "      <th>Elastic net</th>\n",
       "      <td>52482.808</td>\n",
       "    </tr>\n",
       "    <tr>\n",
       "      <th>PCR</th>\n",
       "      <td>64658.779</td>\n",
       "    </tr>\n",
       "    <tr>\n",
       "      <th>PLSR</th>\n",
       "      <td>51509.933</td>\n",
       "    </tr>\n",
       "    <tr>\n",
       "      <th>MARS</th>\n",
       "      <td>24262.447</td>\n",
       "    </tr>\n",
       "  </tbody>\n",
       "</table>\n",
       "</div>"
      ],
      "text/plain": [
       "             Test RMSE\n",
       "OLS          64792.914\n",
       "Ridge        47670.165\n",
       "Lasso        59592.173\n",
       "Elastic net  52482.808\n",
       "PCR          64658.779\n",
       "PLSR         51509.933\n",
       "MARS         24262.447"
      ]
     },
     "execution_count": 30,
     "metadata": {},
     "output_type": "execute_result"
    }
   ],
   "source": [
    "# What was the RMSE on the test data?\n",
    "columns=['Test RMSE']\n",
    "rows=['OLS','Ridge', 'Lasso','Elastic net', 'PCR', 'PLSR','MARS']\n",
    "results=pd.DataFrame(0.0, columns=columns, index=rows) \n",
    "\n",
    "methods=[ames_ols_all, ames_ridge, ames_lasso, ames_enet, ames_pcr, ames_plsr,ames_mars]\n",
    "\n",
    "for i, method in enumerate(methods):\n",
    "    y_pred=method.predict(ames_test_X)\n",
    "    results.iloc[i,0] = np.sqrt(mean_squared_error(10**ames_test_y, 10**y_pred))\n",
    "\n",
    "results.round(3)"
   ]
  }
 ],
 "metadata": {
  "kernelspec": {
   "display_name": "Python 3",
   "language": "python",
   "name": "python3"
  },
  "language_info": {
   "codemirror_mode": {
    "name": "ipython",
    "version": 3
   },
   "file_extension": ".py",
   "mimetype": "text/x-python",
   "name": "python",
   "nbconvert_exporter": "python",
   "pygments_lexer": "ipython3",
   "version": "3.7.2"
  }
 },
 "nbformat": 4,
 "nbformat_minor": 2
}
