{
 "cells": [
  {
   "cell_type": "markdown",
   "metadata": {},
   "source": [
    "<!--\n",
    "---\n",
    "title: \"Random forest regression. K nearest neighbor regression\"\n",
    "author: \"Madhura Killedar, Darya Vanichkina\"\n",
    "\n",
    "keypoints: \n",
    "- Random forests can be combined to solve regression tasks\n",
    "- kNN is a method that can also be used for regression\n",
    "objectives:\n",
    "- To fit a RF and KNN model to our data\n",
    "- To explore the effect of hyperparameters on model fit\n",
    "questions:\n",
    "- How do we implement tree-based and proximity-based methods in python?\n",
    "source: Rmd\n",
    "teaching: 45\n",
    "exercises: 45\n",
    "bibliography: references.bib\n",
    "---\n",
    "-->\n",
    "\n",
    "\n",
    "## Random forest regression. K nearest neighbor regression"
   ]
  },
  {
   "cell_type": "code",
   "execution_count": 1,
   "metadata": {},
   "outputs": [],
   "source": [
    "websiterendering = False\n",
    "# when delivering live coding, these libraries and code in this cell have already been loaded\n",
    "import matplotlib.pyplot as plt\n",
    "import numpy as np\n",
    "import pandas as pd\n",
    "from pandas.api.types import CategoricalDtype\n",
    "import statsmodels.api as sm\n",
    "import seaborn as sns\n",
    "import pickle\n",
    "\n",
    "import sys\n",
    "sys.path.insert(0, 'py-earth')\n",
    "from pyearth import Earth\n",
    "\n",
    "def warn(*args, **kwargs):\n",
    "    pass\n",
    "import warnings\n",
    "warnings.warn = warn\n",
    "\n",
    "from sklearn.model_selection import train_test_split\n",
    "from sklearn.model_selection import GridSearchCV, RandomizedSearchCV\n",
    "from sklearn.metrics import mean_squared_error, r2_score,  mean_absolute_error\n",
    "\n",
    "from sklearn.pipeline import Pipeline\n",
    "from sklearn.preprocessing import StandardScaler, RobustScaler\n",
    "\n",
    "from sklearn.utils import resample\n",
    "\n",
    "\n",
    "# Set up plotting options for seaborn and matplotlib\n",
    "sns.set_context('notebook') \n",
    "sns.set_style('ticks') \n",
    "%matplotlib inline\n",
    "plt.rcParams['figure.figsize'] = (9, 6)\n",
    "\n",
    "# load from previous lessons\n",
    "cached_files = ['models/ames_train_y.pickle','models/ames_test_y.pickle',\n",
    "                'models/ames_train_X.pickle','models/ames_test_X.pickle',\n",
    "                'models/predictors.pickle','models/ames_ols_all.pickle',\n",
    "                'models/ames_ridge.pickle','models/ames_lasso.pickle', \n",
    "                'models/ames_enet.pickle','models/ames_mars.pickle',\n",
    "               'models/ames_pcr.pickle', 'models/ames_plsr.pickle']\n",
    "\n",
    "for file in cached_files:\n",
    "    with open(file, 'rb') as f:\n",
    "        objectname = file.replace('models/', '').replace('.pickle', '')\n",
    "        exec(objectname + \" = pickle.load(f)\")\n",
    "        f.close()\n",
    "\n",
    "## \n",
    "def assess_model_fit(models,\n",
    "                     model_labels, \n",
    "                     datasetX, \n",
    "                     datasetY):\n",
    "    columns = ['RMSE', 'R2', 'MAE']\n",
    "    rows = model_labels\n",
    "    results = pd.DataFrame(0.0, columns=columns, index=rows)\n",
    "    for i, method in enumerate(models):\n",
    "        tmp_dataset_X = datasetX\n",
    "        # while we build the model and predict on the log10Transformed \n",
    "        # sale price, we display the error in dollars as that makes more sense\n",
    "        y_pred=10**(method.predict(tmp_dataset_X))\n",
    "        results.iloc[i,0] = np.sqrt(mean_squared_error(10**(datasetY), y_pred))\n",
    "        results.iloc[i,1] = r2_score(10**(datasetY), y_pred)\n",
    "        results.iloc[i,2] = mean_absolute_error(10**(datasetY), y_pred)\n",
    "    return(results.round(3))"
   ]
  },
  {
   "cell_type": "markdown",
   "metadata": {},
   "source": [
    "## Random Forest\n",
    "In random forest, each tree in the ensemble is built from a bootstrap sample from the training set. In addition, when splitting a node during the construction of the tree, the split that is chosen is the best split among a random subset of the features."
   ]
  },
  {
   "cell_type": "code",
   "execution_count": 2,
   "metadata": {},
   "outputs": [],
   "source": [
    "# tuning grid was defined to optimise the following RF parameters:\n",
    "param_grid = {\"n_estimators\": list(np.arange(10,160,10)),\n",
    "            'max_depth': list(np.arange(3,11,1)),\n",
    "            'min_samples_split': [0.005, 0.01, 0.02],\n",
    "             'max_features': ['sqrt', 'auto']}"
   ]
  },
  {
   "cell_type": "markdown",
   "metadata": {},
   "source": [
    "This was optimised on the HPC (we'll see some sample scripts for this in the next session), and the best outcome of this ended up being:\n",
    "\n",
    "```\n",
    "{'max_depth': 9, 'min_samples_split': 0.005, \n",
    "'max_features': 'auto', 'n_estimators': 150}\n",
    "\n",
    "# best score\n",
    "0.8735794018428228\n",
    "```\n"
   ]
  },
  {
   "cell_type": "code",
   "execution_count": 3,
   "metadata": {},
   "outputs": [],
   "source": [
    "from sklearn.ensemble import RandomForestRegressor\n",
    "\n",
    "ames_RF = Pipeline([\n",
    "    ('estimator', RandomForestRegressor(n_estimators=150, \n",
    "                                       max_depth = 9,\n",
    "                                       min_samples_split = 0.005,\n",
    "                                       max_features = 'auto'))\n",
    "    # If we want to actually tune these parameters\n",
    "    #('estimator', GridSearchCV(RandomForestRegressor(), param_grid, scoring='r2', cv=10))\n",
    "])\n",
    "\n",
    "if websiterendering:\n",
    "    with open('models/ames_RF.pickle', 'rb') as f:\n",
    "        ames_RF = pickle.load(f)\n",
    "else:\n",
    "    # STUDENTS: execute the line of code below\n",
    "    ames_RF.fit(ames_train_X, ames_train_y)\n",
    "    pickle.dump(ames_RF, open('models/ames_RF.pickle', 'wb'))\n",
    "    \n",
    "#best_RF = ames_RF.named_steps.estimator.best_estimator_\n",
    "#print(best_RF)"
   ]
  },
  {
   "cell_type": "code",
   "execution_count": 4,
   "metadata": {},
   "outputs": [
    {
     "data": {
      "text/plain": [
       "RandomForestRegressor(bootstrap=True, ccp_alpha=0.0, criterion='mse',\n",
       "                      max_depth=9, max_features='auto', max_leaf_nodes=None,\n",
       "                      max_samples=None, min_impurity_decrease=0.0,\n",
       "                      min_impurity_split=None, min_samples_leaf=1,\n",
       "                      min_samples_split=0.005, min_weight_fraction_leaf=0.0,\n",
       "                      n_estimators=150, n_jobs=None, oob_score=False,\n",
       "                      random_state=None, verbose=0, warm_start=False)"
      ]
     },
     "execution_count": 4,
     "metadata": {},
     "output_type": "execute_result"
    }
   ],
   "source": [
    "ames_RF.named_steps['estimator']"
   ]
  },
  {
   "cell_type": "markdown",
   "metadata": {},
   "source": [
    "> ## Challenge 1\n",
    ">\n",
    "> 1. Try different hyperparameters, how does it impact the feature importances and RMSE (see below)?\n",
    "> \n",
    "> {: .source}\n",
    ">\n",
    "{: .challenge}"
   ]
  },
  {
   "cell_type": "code",
   "execution_count": 5,
   "metadata": {},
   "outputs": [],
   "source": [
    "def plot_coefficients(model, labels):\n",
    "    table = pd.Series(model.feature_importances_, index = labels)\n",
    "    # Get the largest 20 values (by absolute value)\n",
    "    table = table[table.abs().nlargest(20).index].sort_values()\n",
    "\n",
    "    fig, ax = fig, ax = plt.subplots()\n",
    "    table.T.plot(kind='barh', edgecolor='black', width=0.7, linewidth=.8, alpha=0.9, ax=ax)\n",
    "    ax.tick_params(axis=u'y', length=0) \n",
    "    ax.set_title('Feature Importances (twenty largest in absolute value)', fontsize=14)\n",
    "    sns.despine()\n",
    "    return fig, ax"
   ]
  },
  {
   "cell_type": "code",
   "execution_count": 6,
   "metadata": {},
   "outputs": [
    {
     "data": {
      "image/png": "[encoded data removed]",
      "text/plain": [
       "<Figure size 648x432 with 1 Axes>"
      ]
     },
     "metadata": {
      "needs_background": "light"
     },
     "output_type": "display_data"
    }
   ],
   "source": [
    "plot_coefficients(ames_RF.named_steps['estimator'], predictors)\n",
    "plt.show()"
   ]
  },
  {
   "cell_type": "markdown",
   "metadata": {},
   "source": [
    "## k-Nearest Neighbours Regression"
   ]
  },
  {
   "cell_type": "code",
   "execution_count": 7,
   "metadata": {},
   "outputs": [],
   "source": [
    "# tuning grid will be defined to optimise the following knn parameters:\n",
    "param_grid = {\"n_neighbors\": list(np.arange(3,21,2)),\n",
    "              \"weights\": ['uniform','distance'],\n",
    "             }\n",
    "\n",
    "# Results from tuning:\n",
    "# print(ames_kNN.named_steps['estimator'].best_score_)\n",
    "# 0.7842456772785913\n",
    "# KNeighborsRegressor(algorithm='auto', leaf_size=30, metric='minkowski',metric_params=None, n_jobs=1, n_neighbors=7, p=2, weights='distance')"
   ]
  },
  {
   "cell_type": "code",
   "execution_count": 8,
   "metadata": {},
   "outputs": [
    {
     "name": "stdout",
     "output_type": "stream",
     "text": [
      "KNeighborsRegressor(algorithm='auto', leaf_size=30, metric='minkowski',\n",
      "                    metric_params=None, n_jobs=None, n_neighbors=8, p=2,\n",
      "                    weights='uniform')\n",
      "0.7775511840741828\n"
     ]
    }
   ],
   "source": [
    "from sklearn.neighbors import KNeighborsRegressor\n",
    "\n",
    "# Next, let's try to tune locally, trying 6, 7 and 8 neighbors:\n",
    "param_grid = {\"n_neighbors\": [6,7,8],\n",
    "              \"weights\": ['uniform']}\n",
    "\n",
    "\n",
    "ames_kNN = Pipeline([\n",
    "    ('scaler', StandardScaler()),\n",
    "    #('scaler', RobustScaler()),\n",
    "    #('estimator', KNeighborsRegressor(n_neighbors=10))\n",
    "    ('estimator', GridSearchCV(KNeighborsRegressor(), \n",
    "                               param_grid, scoring='r2', cv=10))\n",
    "])\n",
    "\n",
    "\n",
    "if websiterendering:\n",
    "    with open('models/ames_knn.pickle', 'rb') as f:\n",
    "        ames_kNN = pickle.load(f)\n",
    "else:\n",
    "    # STUDENTS: RUN THE LINE BELOW ONLY:\n",
    "    ames_kNN.fit(ames_train_X, ames_train_y)\n",
    "    pickle.dump(ames_kNN, open('models/ames_knn.pickle', 'wb'))\n",
    "\n",
    "    \n",
    "    \n",
    "print(ames_kNN.named_steps['estimator'].best_estimator_)\n",
    "print(ames_kNN.named_steps['estimator'].best_score_)"
   ]
  },
  {
   "cell_type": "markdown",
   "metadata": {},
   "source": [
    "## Compare Models"
   ]
  },
  {
   "cell_type": "code",
   "execution_count": 9,
   "metadata": {},
   "outputs": [
    {
     "data": {
      "text/html": [
       "<div>\n",
       "<style scoped>\n",
       "    .dataframe tbody tr th:only-of-type {\n",
       "        vertical-align: middle;\n",
       "    }\n",
       "\n",
       "    .dataframe tbody tr th {\n",
       "        vertical-align: top;\n",
       "    }\n",
       "\n",
       "    .dataframe thead th {\n",
       "        text-align: right;\n",
       "    }\n",
       "</style>\n",
       "<table border=\"1\" class=\"dataframe\">\n",
       "  <thead>\n",
       "    <tr style=\"text-align: right;\">\n",
       "      <th></th>\n",
       "      <th>RMSE</th>\n",
       "      <th>R2</th>\n",
       "      <th>MAE</th>\n",
       "    </tr>\n",
       "  </thead>\n",
       "  <tbody>\n",
       "    <tr>\n",
       "      <th>OLS</th>\n",
       "      <td>15757.714</td>\n",
       "      <td>0.961</td>\n",
       "      <td>10931.668</td>\n",
       "    </tr>\n",
       "    <tr>\n",
       "      <th>RF</th>\n",
       "      <td>16208.353</td>\n",
       "      <td>0.958</td>\n",
       "      <td>11033.811</td>\n",
       "    </tr>\n",
       "    <tr>\n",
       "      <th>Lasso</th>\n",
       "      <td>16480.809</td>\n",
       "      <td>0.957</td>\n",
       "      <td>11448.829</td>\n",
       "    </tr>\n",
       "    <tr>\n",
       "      <th>Ridge</th>\n",
       "      <td>16497.181</td>\n",
       "      <td>0.957</td>\n",
       "      <td>11462.724</td>\n",
       "    </tr>\n",
       "    <tr>\n",
       "      <th>PLSR</th>\n",
       "      <td>16524.567</td>\n",
       "      <td>0.957</td>\n",
       "      <td>11602.496</td>\n",
       "    </tr>\n",
       "    <tr>\n",
       "      <th>PCR</th>\n",
       "      <td>16764.468</td>\n",
       "      <td>0.955</td>\n",
       "      <td>11776.527</td>\n",
       "    </tr>\n",
       "    <tr>\n",
       "      <th>ENet</th>\n",
       "      <td>17041.271</td>\n",
       "      <td>0.954</td>\n",
       "      <td>11799.798</td>\n",
       "    </tr>\n",
       "    <tr>\n",
       "      <th>MARS</th>\n",
       "      <td>19172.923</td>\n",
       "      <td>0.942</td>\n",
       "      <td>13498.476</td>\n",
       "    </tr>\n",
       "    <tr>\n",
       "      <th>kNN</th>\n",
       "      <td>31651.974</td>\n",
       "      <td>0.841</td>\n",
       "      <td>20155.938</td>\n",
       "    </tr>\n",
       "  </tbody>\n",
       "</table>\n",
       "</div>"
      ],
      "text/plain": [
       "            RMSE     R2        MAE\n",
       "OLS    15757.714  0.961  10931.668\n",
       "RF     16208.353  0.958  11033.811\n",
       "Lasso  16480.809  0.957  11448.829\n",
       "Ridge  16497.181  0.957  11462.724\n",
       "PLSR   16524.567  0.957  11602.496\n",
       "PCR    16764.468  0.955  11776.527\n",
       "ENet   17041.271  0.954  11799.798\n",
       "MARS   19172.923  0.942  13498.476\n",
       "kNN    31651.974  0.841  20155.938"
      ]
     },
     "execution_count": 9,
     "metadata": {},
     "output_type": "execute_result"
    }
   ],
   "source": [
    "# What was the RMSE on the training data?\n",
    "assess_model_fit(models=[ames_ols_all, ames_ridge, ames_lasso, ames_enet, \n",
    "                         ames_pcr, ames_plsr,ames_mars, ames_RF, ames_kNN],\n",
    "                 model_labels=['OLS','Ridge', 'Lasso', 'ENet','PCR','PLSR', 'MARS','RF', 'kNN'],\n",
    "                 datasetX=ames_train_X,\n",
    "                 datasetY=ames_train_y).sort_values(\"RMSE\")"
   ]
  },
  {
   "cell_type": "code",
   "execution_count": 10,
   "metadata": {},
   "outputs": [
    {
     "data": {
      "text/html": [
       "<div>\n",
       "<style scoped>\n",
       "    .dataframe tbody tr th:only-of-type {\n",
       "        vertical-align: middle;\n",
       "    }\n",
       "\n",
       "    .dataframe tbody tr th {\n",
       "        vertical-align: top;\n",
       "    }\n",
       "\n",
       "    .dataframe thead th {\n",
       "        text-align: right;\n",
       "    }\n",
       "</style>\n",
       "<table border=\"1\" class=\"dataframe\">\n",
       "  <thead>\n",
       "    <tr style=\"text-align: right;\">\n",
       "      <th></th>\n",
       "      <th>RMSE</th>\n",
       "      <th>R2</th>\n",
       "      <th>MAE</th>\n",
       "    </tr>\n",
       "  </thead>\n",
       "  <tbody>\n",
       "    <tr>\n",
       "      <th>ENet</th>\n",
       "      <td>19801.125</td>\n",
       "      <td>0.933</td>\n",
       "      <td>13317.465</td>\n",
       "    </tr>\n",
       "    <tr>\n",
       "      <th>Lasso</th>\n",
       "      <td>19864.493</td>\n",
       "      <td>0.933</td>\n",
       "      <td>13120.146</td>\n",
       "    </tr>\n",
       "    <tr>\n",
       "      <th>Ridge</th>\n",
       "      <td>20024.975</td>\n",
       "      <td>0.932</td>\n",
       "      <td>13270.709</td>\n",
       "    </tr>\n",
       "    <tr>\n",
       "      <th>PLSR</th>\n",
       "      <td>20113.237</td>\n",
       "      <td>0.931</td>\n",
       "      <td>13372.746</td>\n",
       "    </tr>\n",
       "    <tr>\n",
       "      <th>OLS</th>\n",
       "      <td>20541.485</td>\n",
       "      <td>0.928</td>\n",
       "      <td>13346.733</td>\n",
       "    </tr>\n",
       "    <tr>\n",
       "      <th>PCR</th>\n",
       "      <td>21165.295</td>\n",
       "      <td>0.924</td>\n",
       "      <td>14049.317</td>\n",
       "    </tr>\n",
       "    <tr>\n",
       "      <th>MARS</th>\n",
       "      <td>23226.020</td>\n",
       "      <td>0.908</td>\n",
       "      <td>15355.804</td>\n",
       "    </tr>\n",
       "    <tr>\n",
       "      <th>RF</th>\n",
       "      <td>27320.009</td>\n",
       "      <td>0.873</td>\n",
       "      <td>16817.876</td>\n",
       "    </tr>\n",
       "    <tr>\n",
       "      <th>kNN</th>\n",
       "      <td>34498.941</td>\n",
       "      <td>0.797</td>\n",
       "      <td>22983.686</td>\n",
       "    </tr>\n",
       "  </tbody>\n",
       "</table>\n",
       "</div>"
      ],
      "text/plain": [
       "            RMSE     R2        MAE\n",
       "ENet   19801.125  0.933  13317.465\n",
       "Lasso  19864.493  0.933  13120.146\n",
       "Ridge  20024.975  0.932  13270.709\n",
       "PLSR   20113.237  0.931  13372.746\n",
       "OLS    20541.485  0.928  13346.733\n",
       "PCR    21165.295  0.924  14049.317\n",
       "MARS   23226.020  0.908  15355.804\n",
       "RF     27320.009  0.873  16817.876\n",
       "kNN    34498.941  0.797  22983.686"
      ]
     },
     "execution_count": 10,
     "metadata": {},
     "output_type": "execute_result"
    }
   ],
   "source": [
    "# What was the RMSE on the testing data?\n",
    "assess_model_fit(models=[ames_ols_all, ames_ridge, ames_lasso, ames_enet, \n",
    "                         ames_pcr, ames_plsr, ames_mars, ames_RF, ames_kNN],\n",
    "                 model_labels=['OLS','Ridge', 'Lasso', 'ENet','PCR','PLSR','MARS', 'RF', 'kNN'],\n",
    "                 datasetX=ames_test_X,\n",
    "                 datasetY=ames_test_y).sort_values(\"RMSE\")"
   ]
  }
 ],
 "metadata": {
  "kernelspec": {
   "display_name": "Python 3",
   "language": "python",
   "name": "python3"
  },
  "language_info": {
   "codemirror_mode": {
    "name": "ipython",
    "version": 3
   },
   "file_extension": ".py",
   "mimetype": "text/x-python",
   "name": "python",
   "nbconvert_exporter": "python",
   "pygments_lexer": "ipython3",
   "version": "3.7.6"
  }
 },
 "nbformat": 4,
 "nbformat_minor": 4
}
