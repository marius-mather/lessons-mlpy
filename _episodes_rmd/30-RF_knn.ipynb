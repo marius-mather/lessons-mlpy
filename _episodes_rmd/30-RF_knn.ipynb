{
 "cells": [
  {
   "cell_type": "markdown",
   "metadata": {},
   "source": [
    "<!--\n",
    "---\n",
    "title: \"Random forest regression. K nearest neighbor regression\"\n",
    "author: \"Madhura Killedar, Darya Vanichkina\"\n",
    "\n",
    "keypoints: \n",
    "- Random forests can be combined to solve regression tasks\n",
    "- kNN is a method that can also be used for regression\n",
    "objectives:\n",
    "- To fit a RF and KNN model to our data\n",
    "- To explore the effect of hyperparameters on model fit\n",
    "questions:\n",
    "- How do we implement tree-based and proximity-based methods in python?\n",
    "source: Rmd\n",
    "teaching: 45\n",
    "exercises: 45\n",
    "bibliography: references.bib\n",
    "---\n",
    "-->\n",
    "\n",
    "\n",
    "## Random forest regression. K nearest neighbor regression"
   ]
  },
  {
   "cell_type": "code",
   "execution_count": 36,
   "metadata": {
    "collapsed": true
   },
   "outputs": [],
   "source": [
    "# when delivering live coding, these libraries and code in this cell have already been loaded\n",
    "import matplotlib.pyplot as plt\n",
    "import numpy as np\n",
    "import pandas as pd\n",
    "from pandas.api.types import CategoricalDtype\n",
    "import statsmodels.api as sm\n",
    "import seaborn as sns\n",
    "import pickle\n",
    "\n",
    "import sys\n",
    "sys.path.insert(0, 'py-earth')\n",
    "from pyearth import Earth\n",
    "\n",
    "def warn(*args, **kwargs):\n",
    "    pass\n",
    "import warnings\n",
    "warnings.warn = warn\n",
    "\n",
    "from sklearn.model_selection import train_test_split\n",
    "from sklearn.model_selection import GridSearchCV, RandomizedSearchCV\n",
    "from sklearn.metrics import mean_squared_error, r2_score,  mean_absolute_error\n",
    "\n",
    "from sklearn.pipeline import Pipeline\n",
    "from sklearn.preprocessing import StandardScaler, RobustScaler\n",
    "\n",
    "from sklearn.utils import resample\n",
    "\n",
    "\n",
    "# Set up plotting options for seaborn and matplotlib\n",
    "sns.set_context('notebook') \n",
    "sns.set_style('ticks') \n",
    "%matplotlib inline\n",
    "plt.rcParams['figure.figsize'] = (9, 6)\n",
    "\n",
    "# load from previous lessons\n",
    "cached_files = ['models/ames_train_y.pickle','models/ames_test_y.pickle',\n",
    "                'models/ames_train_X.pickle','models/ames_test_X.pickle',\n",
    "                'models/predictors.pickle','models/ames_ols_all.pickle',\n",
    "                'models/ames_ridge.pickle','models/ames_lasso.pickle', \n",
    "                'models/ames_enet.pickle','models/ames_mars.pickle',\n",
    "               'models/ames_pcr.pickle', 'models/ames_plsr.pickle']\n",
    "\n",
    "for file in cached_files:\n",
    "    with open(file, 'rb') as f:\n",
    "        objectname = file.replace('models/', '').replace('.pickle', '')\n",
    "        exec(objectname + \" = pickle.load(f)\")\n",
    "        f.close()\n",
    "\n",
    "## \n",
    "def assess_model_fit(listOfModels,\n",
    "                     listOfMethodNamesAsStrings, \n",
    "                     datasetX, \n",
    "                     datasetY):\n",
    "    columns= ['RMSE', 'R2', 'MAE']\n",
    "    rows=listOfMethodNamesAsStrings\n",
    "    results=pd.DataFrame(0.0, columns=columns, index=rows)\n",
    "    for i, method in enumerate(listOfModels):\n",
    "        tmp_dataset_X=datasetX\n",
    "        # while we build the model and predict on the log10Transformed sale price, we display the error in dollars\n",
    "        # as that makes more sense\n",
    "        y_pred=10**(method.predict(tmp_dataset_X))\n",
    "        results.iloc[i,0] = np.sqrt(mean_squared_error(10**(datasetY), y_pred))\n",
    "        results.iloc[i,1] = r2_score(10**(datasetY), y_pred)\n",
    "        results.iloc[i,2] = mean_absolute_error(10**(datasetY), y_pred)\n",
    "    return(results.round(3))"
   ]
  },
  {
   "cell_type": "code",
   "execution_count": 2,
   "metadata": {
    "collapsed": false
   },
   "outputs": [
    {
     "data": {
      "text/plain": [
       "[3, 4, 5, 6, 7, 8, 9, 10]"
      ]
     },
     "execution_count": 2,
     "metadata": {},
     "output_type": "execute_result"
    }
   ],
   "source": [
    "list(np.arange(3,11,1))"
   ]
  },
  {
   "cell_type": "markdown",
   "metadata": {},
   "source": [
    "## Random Forest\n",
    "In random forest, each tree in the ensemble is built from a bootstrap sample from the training set. In addition, when splitting a node during the construction of the tree, the split that is chosen is the best split among a random subset of the features."
   ]
  },
  {
   "cell_type": "code",
   "execution_count": 7,
   "metadata": {
    "collapsed": true
   },
   "outputs": [],
   "source": [
    "# tuning grid was defined to optimise the following RF parameters:\n",
    "param_grid = {\"n_estimators\": list(np.arange(10,160,10)),\n",
    "            'max_depth': list(np.arange(3,11,1)),\n",
    "            'min_samples_split': [0.005, 0.01, 0.02],\n",
    "             'max_features': ['sqrt', 'auto']}"
   ]
  },
  {
   "cell_type": "markdown",
   "metadata": {},
   "source": [
    "This was optimised on the HPC (we'll see some sample scripts for this in the next session), and the best outcome of this ended up being:\n",
    "\n",
    "```\n",
    "{'max_depth': 9, 'min_samples_split': 0.005, \n",
    "'max_features': 'auto', 'n_estimators': 150}\n",
    "\n",
    "# best score\n",
    "0.8735794018428228\n",
    "```\n"
   ]
  },
  {
   "cell_type": "code",
   "execution_count": 47,
   "metadata": {
    "collapsed": false
   },
   "outputs": [],
   "source": [
    "from sklearn.ensemble import RandomForestRegressor\n",
    "\n",
    "ames_RF = Pipeline([\n",
    "    ('estimator', RandomForestRegressor(n_estimators=150, \n",
    "                                       max_depth = 9,\n",
    "                                       min_samples_split = 0.005,\n",
    "                                       max_features = 'auto'))\n",
    "    #('estimator', GridSearchCV(RandomForestRegressor(), param_grid, scoring='r2', cv=10))\n",
    "])\n",
    "\n",
    "\n",
    "\n",
    "## Toggle comment below to build model\n",
    "#ames_RF.fit(ames_train_X, ames_train_y)\n",
    "#pickle.dump(ames_RF, open('models/ames_RF.pickle', 'wb'))\n",
    "with open('models/ames_RF.pickle', 'rb') as f:\n",
    "    ames_RF = pickle.load(f)\n",
    "    \n",
    "#best_RF = ames_RF.named_steps.estimator.best_estimator_\n",
    "#print(best_RF)"
   ]
  },
  {
   "cell_type": "code",
   "execution_count": 28,
   "metadata": {
    "collapsed": false
   },
   "outputs": [
    {
     "data": {
      "text/plain": [
       "RandomForestRegressor(bootstrap=True, criterion='mse', max_depth=9,\n",
       "                      max_features='auto', max_leaf_nodes=None,\n",
       "                      min_impurity_decrease=0.0, min_impurity_split=None,\n",
       "                      min_samples_leaf=1, min_samples_split=0.005,\n",
       "                      min_weight_fraction_leaf=0.0, n_estimators=150,\n",
       "                      n_jobs=None, oob_score=False, random_state=None,\n",
       "                      verbose=0, warm_start=False)"
      ]
     },
     "execution_count": 28,
     "metadata": {},
     "output_type": "execute_result"
    }
   ],
   "source": [
    "ames_RF['estimator']"
   ]
  },
  {
   "cell_type": "markdown",
   "metadata": {},
   "source": [
    "> ## Challenge 1\n",
    ">\n",
    "> 1. Try different hyperparameters, how does it impact the feature importances and RMSE (see below)?\n",
    "> \n",
    "> {: .source}\n",
    ">\n",
    "{: .challenge}"
   ]
  },
  {
   "cell_type": "code",
   "execution_count": 29,
   "metadata": {
    "collapsed": true
   },
   "outputs": [],
   "source": [
    "def plot_coefficients(model, labels):\n",
    "    importance = model.feature_importances_\n",
    "\n",
    "    table = pd.Series(importance.ravel(), index = labels).sort_values(ascending=True, inplace=False)\n",
    "    \n",
    "    reference = pd.Series(np.abs(importance.ravel()), index = labels).sort_values(ascending=False, inplace=False)\n",
    "    reference = reference.iloc[:20]\n",
    "    table = table[reference.index]\n",
    "    table = table.sort_values(ascending=True, inplace=False)\n",
    "\n",
    "    fig, ax = fig, ax = plt.subplots()\n",
    "    table.T.plot(kind='barh', edgecolor='black', width=0.7, linewidth=.8, alpha=0.9, ax=ax)\n",
    "    ax.tick_params(axis=u'y', length=0) \n",
    "    ax.set_title('Feature Importances (twenty largest in absolute value)', fontsize=14)\n",
    "    sns.despine()\n",
    "    return fig, ax"
   ]
  },
  {
   "cell_type": "code",
   "execution_count": 30,
   "metadata": {
    "collapsed": false
   },
   "outputs": [
    {
     "data": {
      "image/png": "[encoded data removed]",
      "text/plain": [
       "<Figure size 432x288 with 1 Axes>"
      ]
     },
     "metadata": {
      "needs_background": "light"
     },
     "output_type": "display_data"
    }
   ],
   "source": [
    "plot_coefficients(ames_RF['estimator'], predictors)\n",
    "plt.show()"
   ]
  },
  {
   "cell_type": "markdown",
   "metadata": {},
   "source": [
    "## k-Nearest Neighbours Regression"
   ]
  },
  {
   "cell_type": "code",
   "execution_count": 37,
   "metadata": {
    "collapsed": true
   },
   "outputs": [],
   "source": [
    "# tuning grid will be defined to optimise the following knn parameters:\n",
    "param_grid = {\"n_neighbors\": list(np.arange(3,21,2)),\n",
    "              \"weights\": ['uniform','distance'],\n",
    "             }\n",
    "\n",
    "# print(ames_kNN.named_steps['estimator'].best_score_)\n",
    "#0.7842456772785913\n",
    "# KNeighborsRegressor(algorithm='auto', leaf_size=30, metric='minkowski',metric_params=None, n_jobs=1, n_neighbors=7, p=2, weights='distance')\n"
   ]
  },
  {
   "cell_type": "code",
   "execution_count": 40,
   "metadata": {
    "collapsed": false
   },
   "outputs": [
    {
     "name": "stdout",
     "output_type": "stream",
     "text": [
      "KNeighborsRegressor(algorithm='auto', leaf_size=30, metric='minkowski',\n",
      "                    metric_params=None, n_jobs=None, n_neighbors=7, p=2,\n",
      "                    weights='uniform')\n",
      "0.7810186506203685\n"
     ]
    }
   ],
   "source": [
    "from sklearn.neighbors import KNeighborsRegressor\n",
    "\n",
    "# Next, let's try to tune locally, trying 6, 7 and 8 neighbors:\n",
    "param_grid = {\"n_neighbors\": [6,7,8],\n",
    "              \"weights\": ['uniform']}\n",
    "\n",
    "\n",
    "ames_kNN = Pipeline([\n",
    "    ('scaler', StandardScaler()),\n",
    "    #('scaler', RobustScaler()),\n",
    "    #('estimator', KNeighborsRegressor(n_neighbors=10))\n",
    "    ('estimator', GridSearchCV(KNeighborsRegressor(), param_grid, scoring='r2', cv=10))\n",
    "])\n",
    "\n",
    "\n",
    "## Toggle comment below to build model\n",
    "# ames_kNN.fit(ames_train_X, ames_train_y)\n",
    "# pickle.dump(ames_kNN, open('models/ames_knn.pickle', 'wb'))\n",
    "with open('models/ames_knn.pickle', 'rb') as f:\n",
    "    ames_kNN = pickle.load(f)\n",
    "\n",
    "print(ames_kNN.named_steps['estimator'].best_estimator_)\n",
    "print(ames_kNN.named_steps['estimator'].best_score_)"
   ]
  },
  {
   "cell_type": "markdown",
   "metadata": {},
   "source": [
    "## Compare Models"
   ]
  },
  {
   "cell_type": "code",
   "execution_count": 44,
   "metadata": {
    "collapsed": false
   },
   "outputs": [
    {
     "data": {
      "text/html": [
       "<div>\n",
       "<style scoped>\n",
       "    .dataframe tbody tr th:only-of-type {\n",
       "        vertical-align: middle;\n",
       "    }\n",
       "\n",
       "    .dataframe tbody tr th {\n",
       "        vertical-align: top;\n",
       "    }\n",
       "\n",
       "    .dataframe thead th {\n",
       "        text-align: right;\n",
       "    }\n",
       "</style>\n",
       "<table border=\"1\" class=\"dataframe\">\n",
       "  <thead>\n",
       "    <tr style=\"text-align: right;\">\n",
       "      <th></th>\n",
       "      <th>RMSE</th>\n",
       "      <th>R2</th>\n",
       "      <th>MAE</th>\n",
       "    </tr>\n",
       "  </thead>\n",
       "  <tbody>\n",
       "    <tr>\n",
       "      <th>RF</th>\n",
       "      <td>17099.214</td>\n",
       "      <td>0.955</td>\n",
       "      <td>11062.209</td>\n",
       "    </tr>\n",
       "    <tr>\n",
       "      <th>OLS</th>\n",
       "      <td>18810.886</td>\n",
       "      <td>0.946</td>\n",
       "      <td>11761.208</td>\n",
       "    </tr>\n",
       "    <tr>\n",
       "      <th>PCR</th>\n",
       "      <td>19106.227</td>\n",
       "      <td>0.944</td>\n",
       "      <td>11995.822</td>\n",
       "    </tr>\n",
       "    <tr>\n",
       "      <th>PLSR</th>\n",
       "      <td>20072.891</td>\n",
       "      <td>0.938</td>\n",
       "      <td>12450.140</td>\n",
       "    </tr>\n",
       "    <tr>\n",
       "      <th>Lasso</th>\n",
       "      <td>20365.796</td>\n",
       "      <td>0.936</td>\n",
       "      <td>12266.462</td>\n",
       "    </tr>\n",
       "    <tr>\n",
       "      <th>MARS</th>\n",
       "      <td>20980.471</td>\n",
       "      <td>0.933</td>\n",
       "      <td>14240.862</td>\n",
       "    </tr>\n",
       "    <tr>\n",
       "      <th>ENet</th>\n",
       "      <td>21292.160</td>\n",
       "      <td>0.931</td>\n",
       "      <td>12706.575</td>\n",
       "    </tr>\n",
       "    <tr>\n",
       "      <th>Ridge</th>\n",
       "      <td>21330.847</td>\n",
       "      <td>0.930</td>\n",
       "      <td>12951.372</td>\n",
       "    </tr>\n",
       "    <tr>\n",
       "      <th>kNN</th>\n",
       "      <td>32778.022</td>\n",
       "      <td>0.836</td>\n",
       "      <td>20021.304</td>\n",
       "    </tr>\n",
       "  </tbody>\n",
       "</table>\n",
       "</div>"
      ],
      "text/plain": [
       "            RMSE     R2        MAE\n",
       "RF     17099.214  0.955  11062.209\n",
       "OLS    18810.886  0.946  11761.208\n",
       "PCR    19106.227  0.944  11995.822\n",
       "PLSR   20072.891  0.938  12450.140\n",
       "Lasso  20365.796  0.936  12266.462\n",
       "MARS   20980.471  0.933  14240.862\n",
       "ENet   21292.160  0.931  12706.575\n",
       "Ridge  21330.847  0.930  12951.372\n",
       "kNN    32778.022  0.836  20021.304"
      ]
     },
     "execution_count": 44,
     "metadata": {},
     "output_type": "execute_result"
    }
   ],
   "source": [
    "# What was the RMSE on the training data?\n",
    "assess_model_fit(listOfModels=[ames_ols_all, ames_ridge, ames_lasso, ames_enet, ames_pcr, ames_plsr,ames_mars, ames_RF, ames_kNN],\n",
    "                listOfMethodNamesAsStrings=['OLS','Ridge', 'Lasso', 'ENet','PCR','PLSR', 'MARS','RF', 'kNN'],\n",
    "                datasetX=ames_train_X,\n",
    "                datasetY=ames_train_y).sort_values(\"RMSE\")"
   ]
  },
  {
   "cell_type": "code",
   "execution_count": 46,
   "metadata": {},
   "outputs": [
    {
     "data": {
      "text/html": [
       "<div>\n",
       "<style scoped>\n",
       "    .dataframe tbody tr th:only-of-type {\n",
       "        vertical-align: middle;\n",
       "    }\n",
       "\n",
       "    .dataframe tbody tr th {\n",
       "        vertical-align: top;\n",
       "    }\n",
       "\n",
       "    .dataframe thead th {\n",
       "        text-align: right;\n",
       "    }\n",
       "</style>\n",
       "<table border=\"1\" class=\"dataframe\">\n",
       "  <thead>\n",
       "    <tr style=\"text-align: right;\">\n",
       "      <th></th>\n",
       "      <th>RMSE</th>\n",
       "      <th>R2</th>\n",
       "      <th>MAE</th>\n",
       "    </tr>\n",
       "  </thead>\n",
       "  <tbody>\n",
       "    <tr>\n",
       "      <th>MARS</th>\n",
       "      <td>24262.447</td>\n",
       "      <td>0.902</td>\n",
       "      <td>15162.366</td>\n",
       "    </tr>\n",
       "    <tr>\n",
       "      <th>RF</th>\n",
       "      <td>27185.647</td>\n",
       "      <td>0.877</td>\n",
       "      <td>16619.358</td>\n",
       "    </tr>\n",
       "    <tr>\n",
       "      <th>kNN</th>\n",
       "      <td>36781.781</td>\n",
       "      <td>0.775</td>\n",
       "      <td>23913.011</td>\n",
       "    </tr>\n",
       "    <tr>\n",
       "      <th>Ridge</th>\n",
       "      <td>47670.165</td>\n",
       "      <td>0.623</td>\n",
       "      <td>15758.453</td>\n",
       "    </tr>\n",
       "    <tr>\n",
       "      <th>PLSR</th>\n",
       "      <td>51509.933</td>\n",
       "      <td>0.560</td>\n",
       "      <td>15751.082</td>\n",
       "    </tr>\n",
       "    <tr>\n",
       "      <th>ENet</th>\n",
       "      <td>52482.808</td>\n",
       "      <td>0.543</td>\n",
       "      <td>15590.977</td>\n",
       "    </tr>\n",
       "    <tr>\n",
       "      <th>Lasso</th>\n",
       "      <td>59592.173</td>\n",
       "      <td>0.411</td>\n",
       "      <td>15672.588</td>\n",
       "    </tr>\n",
       "    <tr>\n",
       "      <th>PCR</th>\n",
       "      <td>64658.779</td>\n",
       "      <td>0.306</td>\n",
       "      <td>16238.705</td>\n",
       "    </tr>\n",
       "    <tr>\n",
       "      <th>OLS</th>\n",
       "      <td>64792.914</td>\n",
       "      <td>0.303</td>\n",
       "      <td>16436.269</td>\n",
       "    </tr>\n",
       "  </tbody>\n",
       "</table>\n",
       "</div>"
      ],
      "text/plain": [
       "            RMSE     R2        MAE\n",
       "MARS   24262.447  0.902  15162.366\n",
       "RF     27185.647  0.877  16619.358\n",
       "kNN    36781.781  0.775  23913.011\n",
       "Ridge  47670.165  0.623  15758.453\n",
       "PLSR   51509.933  0.560  15751.082\n",
       "ENet   52482.808  0.543  15590.977\n",
       "Lasso  59592.173  0.411  15672.588\n",
       "PCR    64658.779  0.306  16238.705\n",
       "OLS    64792.914  0.303  16436.269"
      ]
     },
     "execution_count": 46,
     "metadata": {},
     "output_type": "execute_result"
    }
   ],
   "source": [
    "# What was the RMSE on the testing data?\n",
    "assess_model_fit(listOfModels=[ames_ols_all, ames_ridge, ames_lasso, ames_enet, ames_pcr, ames_plsr, ames_mars, ames_RF, ames_kNN],\n",
    "                listOfMethodNamesAsStrings=['OLS','Ridge', 'Lasso', 'ENet','PCR','PLSR','MARS', 'RF', 'kNN'],\n",
    "                datasetX=ames_test_X,\n",
    "                datasetY=ames_test_y).sort_values(\"RMSE\")"
   ]
  },
  {
   "cell_type": "code",
   "execution_count": null,
   "metadata": {},
   "outputs": [],
   "source": []
  }
 ],
 "metadata": {
  "kernelspec": {
   "display_name": "Python 3",
   "language": "python",
   "name": "python3"
  },
  "language_info": {
   "codemirror_mode": {
    "name": "ipython",
    "version": 3
   },
   "file_extension": ".py",
   "mimetype": "text/x-python",
   "name": "python",
   "nbconvert_exporter": "python",
   "pygments_lexer": "ipython3",
   "version": "3.7.3"
  }
 },
 "nbformat": 4,
 "nbformat_minor": 2
}
